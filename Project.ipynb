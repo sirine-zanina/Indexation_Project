{
 "cells": [
  {
   "cell_type": "markdown",
   "metadata": {},
   "source": [
    "|    nom   | prenom  | classe | groupe |\n",
    "|----------|---------|--------|--------|\n",
    "|  ZANINA  |  Sirine | 3LM2   | TP2    |"
   ]
  },
  {
   "cell_type": "markdown",
   "metadata": {},
   "source": [
    "# Importation des fichiers de corpus"
   ]
  },
  {
   "cell_type": "code",
   "execution_count": 113,
   "metadata": {},
   "outputs": [
    {
     "name": "stdout",
     "output_type": "stream",
     "text": [
      "{'filename': \"L'IA dans l'industrie automobile.txt\", 'content': \"Les véhicules autonomes sont un exemple de l'application de l'IA dans l'industrie automobile. Ils utilisent des capteurs et des algorithmes pour naviguer sans conducteur humain.\"}\n",
      "{'filename': \"L'IA et l'automatisation du travail.txt\", 'content': \"L'automatisation alimentée par l'IA peut transformer les emplois et les industries. Il est important de comprendre son impact sur l'avenir du travail.\"}\n",
      "{'filename': \"L'éthique de l'intelligence artificielle.txt\", 'content': \"L'IA soulève des questions éthiques importantes, notamment en ce qui concerne la vie privée, la transparence et la prise de décision automatisée. Il est essentiel de réfléchir à ces questions.\"}\n",
      "{'filename': \"Les défis de l'IA  biais et équité.txt\", 'content': \"L'IA peut être sujette à des biais si les données utilisées pour former les modèles sont biaisées. Assurer l'équité dans les systèmes d'IA est un défi majeur.\"}\n",
      "{'filename': \"Les fondements de l'apprentissage automatique.txt\", 'content': \"L'apprentissage automatique est l'une des branches les plus importantes de l'intelligence artificielle. Il repose sur des algorithmes qui permettent aux ordinateurs d'apprendre à partir de données. Les systèmes d'apprentissage automatique sont capables d'analyser des ensembles de données, de détecter des schémas et de prendre des décisions basées sur ces modèles.\\n\\nL'apprentissage automatique comprend diverses techniques, telles que la régression, la classification, le clustering et la reconnaissance de motifs. Ces techniques sont utilisées dans une variété de domaines, de la prédiction de tendances financières à la recommandation de produits en ligne. Les algorithmes d'apprentissage automatique sont alimentés par des données, et plus les données sont riches et pertinentes, plus les modèles d'apprentissage automatique sont performants.\"}\n",
      "{'filename': \"Les futurs développements de l'IA.txt\", 'content': \"L'IA continue de progresser, avec des développements passionnants à venir, tels que l'IA générale artificielle (AGI) qui pourrait rivaliser avec l'intelligence humaine.\"}\n",
      "{'filename': 'Les outils populaires en IA  TensorFlow et PyTorch.txt', 'content': \"TensorFlow et PyTorch sont des bibliothèques populaires utilisées par les chercheurs et les développeurs pour construire des modèles d'IA.\"}\n",
      "{'filename': \"Les pionniers de l'IA  Alan Turing et John McCarthy.txt\", 'content': \"Alan Turing et John McCarthy sont des figures clés de l'histoire de l'IA. Leurs travaux ont jeté les bases de ce que nous connaissons aujourd'hui en matière d'intelligence artificielle.\"}\n",
      "{'filename': \"Qu'est-ce que l'intelligence artificielle.txt\", 'content': \"L'intelligence artificielle (IA) est un domaine passionnant de l'informatique qui vise à créer des systèmes capables d'effectuer des tâches qui nécessitent généralement l'intelligence humaine. Ces systèmes sont conçus pour imiter certaines capacités humaines, telles que la vision, la compréhension du langage naturel, l'apprentissage et la résolution de problèmes complexes. L'IA englobe un large éventail de domaines, de la robotique aux algorithmes d'apprentissage automatique.\\n\\nLes chercheurs en IA travaillent sur le développement de modèles d'IA capables de prendre des décisions éclairées, de résoudre des problèmes complexes et d'interagir de manière plus naturelle avec les humains. Ils utilisent des techniques d'apprentissage automatique, de traitement du langage naturel, de vision par ordinateur et d'apprentissage profond pour créer ces systèmes intelligents.\"}\n"
     ]
    }
   ],
   "source": [
    "import os\n",
    "\n",
    "# Spécifiez le chemin du répertoire où se trouvent vos documents\n",
    "corpus_directory = 'C:\\\\Users\\\\MSI\\\\Documents\\\\3eme_anneeCS\\\\S1\\\\Indexation\\\\Project1\\\\Corpus\\\\'\n",
    "\n",
    "corpus_list = []  # Créez une liste vide pour stocker les objets\n",
    "\n",
    "# Parcourez le répertoire pour collecter les noms de fichiers et leur contenu\n",
    "for filename in os.listdir(corpus_directory):\n",
    "    if filename.endswith('.txt'):\n",
    "        file_path = os.path.join(corpus_directory, filename)\n",
    "        with open(file_path, 'r', encoding='utf-8') as file:\n",
    "            document_content = file.read()\n",
    "            # Créez un objet avec les propriétés \"filename\" et \"content\"\n",
    "            document_object = {\"filename\": filename, \"content\": document_content}\n",
    "            # Ajoutez l'objet à la liste\n",
    "            corpus_list.append(document_object)\n",
    "\n",
    "# À présent, corpus_list est une liste d'objets, chacun contenant les propriétés \"filename\" et \"content\"\n",
    "\n",
    "# Imprimez chaque objet sur une nouvelle ligne\n",
    "for document_object in corpus_list:\n",
    "    print(document_object)"
   ]
  },
  {
   "cell_type": "markdown",
   "metadata": {},
   "source": [
    "# Execution des étapes de pré-traitement sur le corpus"
   ]
  },
  {
   "cell_type": "code",
   "execution_count": 114,
   "metadata": {},
   "outputs": [
    {
     "name": "stderr",
     "output_type": "stream",
     "text": [
      "[nltk_data] Downloading package punkt to\n",
      "[nltk_data]     C:\\Users\\MSI\\AppData\\Roaming\\nltk_data...\n",
      "[nltk_data]   Package punkt is already up-to-date!\n"
     ]
    }
   ],
   "source": [
    "import nltk\n",
    "nltk.download(\"punkt\")\n",
    "from nltk.tokenize import word_tokenize"
   ]
  },
  {
   "cell_type": "code",
   "execution_count": 115,
   "metadata": {},
   "outputs": [
    {
     "name": "stdout",
     "output_type": "stream",
     "text": [
      "[\"L'intelligence\", 'artificielle', '(', 'IA', ')', 'est', 'un', 'domaine', 'passionnant', 'de', \"l'informatique\", 'qui', 'vise', 'à', 'créer', 'des', 'systèmes', 'capables', \"d'effectuer\", 'des', 'tâches', 'qui', 'nécessitent', 'généralement', \"l'intelligence\", 'humaine', '.', 'Ces', 'systèmes', 'sont', 'conçus', 'pour', 'imiter', 'certaines', 'capacités', 'humaines', ',', 'telles', 'que', 'la', 'vision', ',', 'la', 'compréhension', 'du', 'langage', 'naturel', ',', \"l'apprentissage\", 'et', 'la', 'résolution', 'de', 'problèmes', 'complexes', '.', \"L'IA\", 'englobe', 'un', 'large', 'éventail', 'de', 'domaines', ',', 'de', 'la', 'robotique', 'aux', 'algorithmes', \"d'apprentissage\", 'automatique', '.', 'Les', 'chercheurs', 'en', 'IA', 'travaillent', 'sur', 'le', 'développement', 'de', 'modèles', \"d'IA\", 'capables', 'de', 'prendre', 'des', 'décisions', 'éclairées', ',', 'de', 'résoudre', 'des', 'problèmes', 'complexes', 'et', \"d'interagir\", 'de', 'manière', 'plus', 'naturelle', 'avec', 'les', 'humains', '.', 'Ils', 'utilisent', 'des', 'techniques', \"d'apprentissage\", 'automatique', ',', 'de', 'traitement', 'du', 'langage', 'naturel', ',', 'de', 'vision', 'par', 'ordinateur', 'et', \"d'apprentissage\", 'profond', 'pour', 'créer', 'ces', 'systèmes', 'intelligents', '.']\n"
     ]
    }
   ],
   "source": [
    "# Créez une liste pour stocker le texte prétraité\n",
    "preprocessed_corpus = []\n",
    "\n",
    "# Parcourez chaque document dans votre corpus\n",
    "for document_object in corpus_list:\n",
    "    # Récupérez le contenu du document\n",
    "    document_content = document_object[\"content\"]\n",
    "\n",
    "    # Tokenization (découpage en tokens/mots)\n",
    "    tokens = word_tokenize(document_content)\n",
    "\n",
    "    # Ajoutez les tokens au texte prétraité du document\n",
    "    preprocessed_document = {\n",
    "        \"filename\": document_object[\"filename\"],  # Nom du fichier\n",
    "        \"tokens\": tokens  # Liste des tokens du document\n",
    "    }\n",
    "\n",
    "    # Ajoutez le document prétraité à la liste du corpus prétraité\n",
    "    preprocessed_corpus.append(preprocessed_document)\n",
    "\n",
    "# À ce stade, preprocessed_corpus contient les tokens pour chaque document de corpus\n",
    "# Le code suivant est en dehors de la boucle, il ne va imprimer que les tokens du dernier document dans corpus_list\n",
    "print(tokens)\n"
   ]
  },
  {
   "cell_type": "code",
   "execution_count": 116,
   "metadata": {},
   "outputs": [
    {
     "name": "stderr",
     "output_type": "stream",
     "text": [
      "[nltk_data] Downloading package stopwords to\n",
      "[nltk_data]     C:\\Users\\MSI\\AppData\\Roaming\\nltk_data...\n",
      "[nltk_data]   Package stopwords is already up-to-date!\n"
     ]
    },
    {
     "data": {
      "text/plain": [
       "True"
      ]
     },
     "execution_count": 116,
     "metadata": {},
     "output_type": "execute_result"
    }
   ],
   "source": [
    "from nltk.corpus import stopwords\n",
    "nltk.download('stopwords')"
   ]
  },
  {
   "cell_type": "code",
   "execution_count": 117,
   "metadata": {},
   "outputs": [
    {
     "name": "stdout",
     "output_type": "stream",
     "text": [
      "{'no', 'now', 'her', 'them', 'into', 'during', 'below', 'ain', \"shan't\", 'that', 'wasn', 'in', 's', \"didn't\", 'should', 'mightn', 'than', 'above', 'while', 'been', 'doesn', 'to', 'own', 'very', 'where', 'me', 'having', 'few', 'all', 'don', 'him', 'they', 'any', 'our', \"wasn't\", 'once', 'himself', 'most', 'these', 'will', 'we', 'just', 'about', \"shouldn't\", 'what', 'haven', 'his', 'before', \"couldn't\", 'y', 'aren', 'itself', 'hasn', 'other', 'she', 'because', 'more', 'needn', 'can', 're', \"should've\", \"haven't\", 'he', 'its', \"mightn't\", \"she's\", 'for', 'won', 'whom', 'mustn', 'wouldn', 'as', 'until', 'further', 'hadn', 'those', 'up', 'there', 'my', 'and', \"hadn't\", 'if', 'of', 'has', 'myself', 'at', 'isn', \"wouldn't\", 'who', \"you'll\", 'herself', \"you'd\", 'through', 'why', 'then', 'under', 'couldn', 'nor', 'too', 'here', 'o', 'from', \"hasn't\", 'ma', 'i', 'theirs', 'hers', 'such', 'am', 'on', 'some', 'is', 'which', 'when', 'had', 'same', 't', 'out', 'have', 'does', 'with', 'but', 'yours', 'yourselves', 've', 'ours', 'after', \"mustn't\", 'do', 'against', 'being', 'were', 'off', 'not', \"won't\", 'was', \"needn't\", 'll', 'or', 'only', \"you've\", 'you', 'down', \"weren't\", 'it', 'how', 'd', 'their', 'are', 'so', 'ourselves', \"aren't\", 'again', 'shouldn', \"isn't\", 'weren', \"you're\", 'shan', 'be', 'an', \"that'll\", \"don't\", 'doing', \"it's\", 'between', 'm', 'themselves', 'by', 'over', 'a', 'didn', 'your', 'did', 'each', 'yourself', \"doesn't\", 'the', 'this', 'both'}\n"
     ]
    }
   ],
   "source": [
    "stop_words = set(stopwords.words('english'))\n",
    "print(stop_words)"
   ]
  },
  {
   "cell_type": "code",
   "execution_count": 118,
   "metadata": {},
   "outputs": [],
   "source": [
    "from nltk.stem import PorterStemmer\n",
    "ps = PorterStemmer()"
   ]
  },
  {
   "cell_type": "code",
   "execution_count": 119,
   "metadata": {},
   "outputs": [
    {
     "name": "stdout",
     "output_type": "stream",
     "text": [
      "{'filename': \"L'IA dans l'industrie automobile.txt\", 'content': ['l', 'e', 'v', 'é', 'h', 'c', 'u', 'l', 'e', 'u', 'n', 'e', 'n', 'u', 'n', 'e', 'x', 'e', 'p', 'l', 'e', 'e', 'l', 'p', 'p', 'l', 'c', 'n', 'e', 'l', 'n', 'l', 'n', 'u', 'r', 'e', 'u', 'b', 'l', 'e', 'l', 'u', 'l', 'e', 'n', 'e', 'c', 'p', 'e', 'u', 'r', 'e', 'e', 'l', 'g', 'r', 'h', 'e', 'p', 'u', 'r', 'n', 'v', 'g', 'u', 'e', 'r', 'n', 'c', 'n', 'u', 'c', 'e', 'u', 'r', 'h', 'u', 'n']}\n",
      "{'filename': \"L'IA et l'automatisation du travail.txt\", 'content': ['l', 'u', 'n', 'l', 'e', 'n', 'é', 'e', 'p', 'r', 'l', 'p', 'e', 'u', 'r', 'n', 'f', 'r', 'e', 'r', 'l', 'e', 'e', 'p', 'l', 'e', 'l', 'e', 'n', 'u', 'r', 'e', 'l', 'e', 'p', 'r', 'n', 'e', 'c', 'p', 'r', 'e', 'n', 'r', 'e', 'n', 'p', 'c', 'u', 'r', 'l', 'v', 'e', 'n', 'r', 'u', 'r', 'v', 'l']}\n",
      "{'filename': \"L'éthique de l'intelligence artificielle.txt\", 'content': ['l', 'u', 'l', 'è', 'v', 'e', 'e', 'q', 'u', 'e', 'n', 'é', 'h', 'q', 'u', 'e', 'p', 'r', 'n', 'e', 'n', 'e', 'n', 'e', 'n', 'c', 'e', 'q', 'u', 'c', 'n', 'c', 'e', 'r', 'n', 'e', 'l', 'v', 'e', 'p', 'r', 'v', 'é', 'e', 'l', 'r', 'n', 'p', 'r', 'e', 'n', 'c', 'e', 'e', 'l', 'p', 'r', 'e', 'e', 'é', 'c', 'n', 'u', 'é', 'e', 'l', 'e', 'e', 'e', 'n', 'e', 'l', 'e', 'r', 'é', 'f', 'l', 'é', 'c', 'h', 'r', 'à', 'c', 'e', 'q', 'u', 'e', 'n']}\n",
      "{'filename': \"Les défis de l'IA  biais et équité.txt\", 'content': ['l', 'p', 'e', 'u', 'ê', 'r', 'e', 'u', 'j', 'e', 'e', 'à', 'e', 'b', 'l', 'e', 'n', 'n', 'é', 'e', 'u', 'l', 'é', 'e', 'p', 'u', 'r', 'f', 'r', 'e', 'r', 'l', 'e', 'è', 'l', 'e', 'n', 'b', 'é', 'e', 'u', 'r', 'e', 'r', 'l', 'é', 'q', 'u', 'é', 'n', 'l', 'e', 'è', 'e', 'e', 'u', 'n', 'é', 'f', 'j', 'e', 'u', 'r']}\n",
      "{'filename': \"Les fondements de l'apprentissage automatique.txt\", 'content': ['l', 'p', 'p', 'r', 'e', 'n', 'g', 'e', 'u', 'q', 'u', 'e', 'e', 'l', 'u', 'n', 'e', 'e', 'b', 'r', 'n', 'c', 'h', 'e', 'l', 'e', 'p', 'l', 'u', 'p', 'r', 'n', 'e', 'e', 'l', 'n', 'e', 'l', 'l', 'g', 'e', 'n', 'c', 'e', 'r', 'f', 'c', 'e', 'l', 'l', 'e', 'l', 'r', 'e', 'p', 'e', 'u', 'r', 'e', 'l', 'g', 'r', 'h', 'e', 'q', 'u', 'p', 'e', 'r', 'e', 'e', 'n', 'u', 'x', 'r', 'n', 'e', 'u', 'r', 'p', 'p', 'r', 'e', 'n', 'r', 'e', 'à', 'p', 'r', 'r', 'e', 'n', 'n', 'é', 'e', 'l', 'e', 'è', 'e', 'p', 'p', 'r', 'e', 'n', 'g', 'e', 'u', 'q', 'u', 'e', 'n', 'c', 'p', 'b', 'l', 'e', 'n', 'l', 'e', 'r', 'e', 'e', 'n', 'e', 'b', 'l', 'e', 'e', 'n', 'n', 'é', 'e', 'e', 'é', 'e', 'c', 'e', 'r', 'e', 'c', 'h', 'é', 'e', 'e', 'p', 'r', 'e', 'n', 'r', 'e', 'e', 'é', 'c', 'n', 'b', 'é', 'e', 'u', 'r', 'c', 'e', 'è', 'l', 'e', 'l', 'p', 'p', 'r', 'e', 'n', 'g', 'e', 'u', 'q', 'u', 'e', 'c', 'p', 'r', 'e', 'n', 'v', 'e', 'r', 'e', 'e', 'c', 'h', 'n', 'q', 'u', 'e', 'e', 'l', 'l', 'e', 'q', 'u', 'e', 'l', 'r', 'é', 'g', 'r', 'e', 'n', 'l', 'c', 'l', 'f', 'c', 'n', 'l', 'e', 'c', 'l', 'u', 'e', 'r', 'n', 'g', 'e', 'l', 'r', 'e', 'c', 'n', 'n', 'n', 'c', 'e', 'e', 'f', 'c', 'e', 'e', 'c', 'h', 'n', 'q', 'u', 'e', 'n', 'u', 'l', 'é', 'e', 'n', 'u', 'n', 'e', 'v', 'r', 'é', 'é', 'e', 'n', 'e', 'e', 'l', 'p', 'r', 'é', 'c', 'n', 'e', 'e', 'n', 'n', 'c', 'e', 'f', 'n', 'n', 'c', 'è', 'r', 'e', 'à', 'l', 'r', 'e', 'c', 'n', 'n', 'e', 'p', 'r', 'u', 'e', 'n', 'l', 'g', 'n', 'e', 'l', 'e', 'l', 'g', 'r', 'h', 'e', 'p', 'p', 'r', 'e', 'n', 'g', 'e', 'u', 'q', 'u', 'e', 'n', 'l', 'e', 'n', 'é', 'p', 'r', 'e', 'n', 'n', 'é', 'e', 'e', 'p', 'l', 'u', 'l', 'e', 'n', 'n', 'é', 'e', 'n', 'r', 'c', 'h', 'e', 'e', 'p', 'e', 'r', 'n', 'e', 'n', 'e', 'p', 'l', 'u', 'l', 'e', 'è', 'l', 'e', 'p', 'p', 'r', 'e', 'n', 'g', 'e', 'u', 'q', 'u', 'e', 'n', 'p', 'e', 'r', 'f', 'r', 'n']}\n",
      "{'filename': \"Les futurs développements de l'IA.txt\", 'content': ['l', 'c', 'n', 'n', 'u', 'e', 'e', 'p', 'r', 'g', 'r', 'e', 'e', 'r', 'v', 'e', 'c', 'e', 'é', 'v', 'e', 'l', 'p', 'p', 'e', 'e', 'n', 'p', 'n', 'n', 'n', 'à', 'v', 'e', 'n', 'r', 'e', 'l', 'q', 'u', 'e', 'l', 'g', 'é', 'n', 'é', 'r', 'l', 'e', 'r', 'f', 'c', 'e', 'l', 'l', 'e', 'g', 'q', 'u', 'p', 'u', 'r', 'r', 'r', 'v', 'l', 'e', 'r', 'v', 'e', 'c', 'l', 'n', 'e', 'l', 'l', 'g', 'e', 'n', 'c', 'e', 'h', 'u', 'n', 'e']}\n",
      "{'filename': 'Les outils populaires en IA  TensorFlow et PyTorch.txt', 'content': ['e', 'n', 'r', 'f', 'l', 'w', 'e', 'p', 'r', 'c', 'h', 'n', 'e', 'b', 'b', 'l', 'h', 'è', 'q', 'u', 'e', 'p', 'p', 'u', 'l', 'r', 'e', 'u', 'l', 'é', 'e', 'p', 'r', 'l', 'e', 'c', 'h', 'e', 'r', 'c', 'h', 'e', 'u', 'r', 'e', 'l', 'e', 'é', 'v', 'e', 'l', 'p', 'p', 'e', 'u', 'r', 'p', 'u', 'r', 'c', 'n', 'r', 'u', 'r', 'e', 'e', 'è', 'l', 'e']}\n",
      "{'filename': \"Les pionniers de l'IA  Alan Turing et John McCarthy.txt\", 'content': ['l', 'n', 'u', 'r', 'n', 'g', 'e', 'j', 'h', 'n', 'c', 'c', 'r', 'h', 'n', 'e', 'f', 'g', 'u', 'r', 'e', 'c', 'l', 'é', 'e', 'l', 'h', 'r', 'e', 'e', 'l', 'l', 'e', 'u', 'r', 'r', 'v', 'u', 'x', 'n', 'j', 'e', 'é', 'l', 'e', 'b', 'e', 'e', 'c', 'e', 'q', 'u', 'e', 'n', 'u', 'c', 'n', 'n', 'n', 'u', 'j', 'u', 'r', 'h', 'u', 'e', 'n', 'è', 'r', 'e', 'n', 'e', 'l', 'l', 'g', 'e', 'n', 'c', 'e', 'r', 'f', 'c', 'e', 'l', 'l', 'e']}\n",
      "{'filename': \"Qu'est-ce que l'intelligence artificielle.txt\", 'content': ['l', 'n', 'e', 'l', 'l', 'g', 'e', 'n', 'c', 'e', 'r', 'f', 'c', 'e', 'l', 'l', 'e', 'e', 'u', 'n', 'n', 'e', 'p', 'n', 'n', 'n', 'e', 'l', 'n', 'f', 'r', 'q', 'u', 'e', 'q', 'u', 'v', 'e', 'à', 'c', 'r', 'é', 'e', 'r', 'e', 'è', 'e', 'c', 'p', 'b', 'l', 'e', 'e', 'f', 'f', 'e', 'c', 'u', 'e', 'r', 'e', 'â', 'c', 'h', 'e', 'q', 'u', 'n', 'é', 'c', 'e', 'e', 'n', 'g', 'é', 'n', 'é', 'r', 'l', 'e', 'e', 'n', 'l', 'n', 'e', 'l', 'l', 'g', 'e', 'n', 'c', 'e', 'h', 'u', 'n', 'e', 'c', 'e', 'è', 'e', 'n', 'c', 'n', 'ç', 'u', 'p', 'u', 'r', 'e', 'r', 'c', 'e', 'r', 'n', 'e', 'c', 'p', 'c', 'é', 'h', 'u', 'n', 'e', 'e', 'l', 'l', 'e', 'q', 'u', 'e', 'l', 'v', 'n', 'l', 'c', 'p', 'r', 'é', 'h', 'e', 'n', 'n', 'u', 'l', 'n', 'g', 'g', 'e', 'n', 'u', 'r', 'e', 'l', 'l', 'p', 'p', 'r', 'e', 'n', 'g', 'e', 'e', 'l', 'r', 'é', 'l', 'u', 'n', 'e', 'p', 'r', 'b', 'l', 'è', 'e', 'c', 'p', 'l', 'e', 'x', 'e', 'l', 'e', 'n', 'g', 'l', 'b', 'e', 'u', 'n', 'l', 'r', 'g', 'e', 'é', 'v', 'e', 'n', 'l', 'e', 'n', 'e', 'e', 'l', 'r', 'b', 'q', 'u', 'e', 'u', 'x', 'l', 'g', 'r', 'h', 'e', 'p', 'p', 'r', 'e', 'n', 'g', 'e', 'u', 'q', 'u', 'e', 'l', 'e', 'c', 'h', 'e', 'r', 'c', 'h', 'e', 'u', 'r', 'e', 'n', 'r', 'v', 'l', 'l', 'e', 'n', 'u', 'r', 'l', 'e', 'é', 'v', 'e', 'l', 'p', 'p', 'e', 'e', 'n', 'e', 'è', 'l', 'e', 'c', 'p', 'b', 'l', 'e', 'e', 'p', 'r', 'e', 'n', 'r', 'e', 'e', 'é', 'c', 'n', 'é', 'c', 'l', 'r', 'é', 'e', 'e', 'r', 'é', 'u', 'r', 'e', 'e', 'p', 'r', 'b', 'l', 'è', 'e', 'c', 'p', 'l', 'e', 'x', 'e', 'e', 'n', 'e', 'r', 'g', 'r', 'e', 'n', 'è', 'r', 'e', 'p', 'l', 'u', 'n', 'u', 'r', 'e', 'l', 'l', 'e', 'v', 'e', 'c', 'l', 'e', 'h', 'u', 'n', 'l', 'u', 'l', 'e', 'n', 'e', 'e', 'c', 'h', 'n', 'q', 'u', 'e', 'p', 'p', 'r', 'e', 'n', 'g', 'e', 'u', 'q', 'u', 'e', 'e', 'r', 'e', 'e', 'n', 'u', 'l', 'n', 'g', 'g', 'e', 'n', 'u', 'r', 'e', 'l', 'e', 'v', 'n', 'p', 'r', 'r', 'n', 'e', 'u', 'r', 'e', 'p', 'p', 'r', 'e', 'n', 'g', 'e', 'p', 'r', 'f', 'n', 'p', 'u', 'r', 'c', 'r', 'é', 'e', 'r', 'c', 'e', 'è', 'e', 'n', 'e', 'l', 'l', 'g', 'e', 'n']}\n"
     ]
    }
   ],
   "source": [
    "# Créez une liste pour stocker le texte prétraité\n",
    "preprocessed_corpus = []\n",
    "\n",
    "# Parcourez chaque document dans votre corpus\n",
    "for document_object in corpus_list:\n",
    "    \n",
    "    # Récupérez le contenu du document\n",
    "    document_content = document_object[\"content\"]\n",
    "\n",
    "    # Tokenisation et normalisation\n",
    "    mots_formates = [word.lower() for word in document_content if word.isalpha()]\n",
    "\n",
    "    # Suppression des mots vides\n",
    "    mots_sans_motsvides = [word for word in mots_formates if word not in stop_words]\n",
    "\n",
    "    # Application du stemming à chaque mot\n",
    "    mots_normalises = [ps.stem(word) for word in mots_sans_motsvides]\n",
    "\n",
    "    # Créez un nouvel objet avec le nom du document et le texte prétraité\n",
    "    preprocessed_document = {\n",
    "        \"filename\": document_object[\"filename\"],\n",
    "        \"content\": mots_normalises\n",
    "    }\n",
    "\n",
    "    # Ajoutez l'objet au corpus prétraité\n",
    "    preprocessed_corpus.append(preprocessed_document)\n",
    "\n",
    "# À présent, preprocessed_corpus contient le texte prétraité pour chaque document de votre corpus\n",
    "for obj in preprocessed_corpus:\n",
    "    print(obj)\n"
   ]
  },
  {
   "cell_type": "markdown",
   "metadata": {},
   "source": [
    "# Calcul des fréquences de termes"
   ]
  },
  {
   "cell_type": "code",
   "execution_count": 120,
   "metadata": {},
   "outputs": [
    {
     "name": "stdout",
     "output_type": "stream",
     "text": [
      "{'l': 149, 'e': 350, 'v': 23, 'é': 49, 'h': 30, 'c': 77, 'u': 110, 'n': 169, 'x': 6, 'p': 81, 'r': 144, 'b': 16, 'g': 36, 'f': 18, 'è': 17, 'q': 26, 'à': 6, 'ê': 1, 'j': 5, 'w': 1, 'â': 1, 'ç': 1}\n"
     ]
    }
   ],
   "source": [
    "# Créez un dictionnaire pour stocker les fréquences de termes\n",
    "term_frequency = {}\n",
    "\n",
    "# Parcourez chaque document dans le corpus prétraité\n",
    "for file in preprocessed_corpus:\n",
    "    # Récupérez le texte prétraité du document\n",
    "    preprocessed_text = file[\"content\"]\n",
    "\n",
    "    # Parcourez chaque mot dans le texte prétraité\n",
    "    for word in preprocessed_text:\n",
    "        # Vérifiez si le mot est déjà dans le dictionnaire des fréquences de termes\n",
    "        if word not in term_frequency:\n",
    "            # Si le mot n'est pas dans le dictionnaire, ajoutez-le avec une fréquence de 1\n",
    "            term_frequency[word] = 1\n",
    "        else:\n",
    "            # Si le mot est déjà dans le dictionnaire, incrémentez sa fréquence\n",
    "            term_frequency[word] += 1\n",
    "\n",
    "# À ce stade, term_frequency contient les fréquences de termes pour l'ensemble du corpus prétraité\n",
    "print(term_frequency)\n"
   ]
  },
  {
   "cell_type": "markdown",
   "metadata": {},
   "source": [
    "# Génération des indexs inversés contenant la fréquence par document de chaque terme"
   ]
  },
  {
   "cell_type": "code",
   "execution_count": 121,
   "metadata": {},
   "outputs": [
    {
     "name": "stdout",
     "output_type": "stream",
     "text": [
      "{'L': {0: 1, 1: 1, 2: 1, 3: 1, 4: 4, 5: 1, 7: 1, 8: 3}, 'e': {0: 18, 1: 14, 2: 25, 3: 17, 4: 108, 5: 21, 6: 16, 7: 20, 8: 111}, 's': {0: 14, 1: 10, 2: 16, 3: 21, 4: 83, 5: 9, 6: 14, 7: 13, 8: 64}, ' ': {0: 24, 1: 21, 2: 29, 3: 26, 4: 112, 5: 21, 6: 18, 7: 28, 8: 115}, 'v': {0: 2, 1: 2, 2: 3, 4: 2, 5: 5, 6: 1, 7: 1, 8: 7}, 'é': {0: 1, 1: 1, 2: 6, 3: 6, 4: 14, 5: 3, 6: 2, 7: 2, 8: 14}, 'h': {0: 3, 2: 2, 4: 7, 5: 1, 6: 4, 7: 4, 8: 9}, 'i': {0: 11, 1: 10, 2: 13, 3: 9, 4: 47, 5: 13, 6: 6, 7: 12, 8: 52}, 'c': {0: 5, 1: 2, 2: 7, 4: 21, 5: 5, 6: 4, 7: 6, 8: 24}, 'u': {0: 12, 1: 5, 2: 6, 3: 8, 4: 26, 5: 5, 6: 7, 7: 9, 8: 32}, 'l': {0: 10, 1: 8, 2: 7, 3: 6, 4: 33, 5: 10, 6: 8, 7: 9, 8: 45}, 'a': {0: 10, 1: 11, 2: 9, 3: 4, 4: 54, 5: 9, 6: 2, 7: 9, 8: 53}, 't': {0: 11, 1: 13, 2: 13, 3: 9, 4: 55, 5: 7, 6: 6, 7: 10, 8: 50}, 'o': {0: 9, 1: 7, 2: 8, 3: 5, 4: 33, 5: 5, 6: 10, 7: 8, 8: 31}, 'n': {0: 11, 1: 8, 2: 12, 3: 5, 4: 55, 5: 11, 6: 3, 7: 12, 8: 52}, 'm': {0: 5, 1: 7, 2: 4, 3: 4, 4: 21, 5: 2, 6: 1, 7: 1, 8: 23}, 'x': {0: 1, 4: 1, 7: 1, 8: 3}, 'p': {0: 5, 1: 6, 2: 4, 3: 2, 4: 27, 5: 5, 6: 6, 8: 25}, 'd': {0: 7, 1: 4, 2: 4, 3: 6, 4: 40, 5: 3, 6: 5, 7: 6, 8: 32}, \"'\": {0: 3, 1: 3, 2: 1, 3: 3, 4: 9, 5: 3, 6: 1, 7: 4, 8: 11}, 'I': {0: 2, 1: 2, 2: 2, 3: 2, 4: 1, 5: 3, 6: 1, 7: 1, 8: 5}, 'A': {0: 1, 1: 1, 2: 1, 3: 3, 5: 3, 6: 1, 7: 2, 8: 4}, 'r': {0: 6, 1: 11, 2: 8, 3: 7, 4: 40, 5: 10, 6: 10, 7: 9, 8: 43}, 'b': {0: 1, 3: 2, 4: 4, 6: 2, 7: 1, 8: 6}, '.': {0: 2, 1: 2, 2: 2, 3: 2, 4: 6, 5: 1, 6: 1, 7: 2, 8: 5}, 'g': {0: 2, 4: 11, 5: 3, 7: 3, 8: 16}, 'f': {1: 1, 2: 1, 3: 2, 4: 5, 5: 1, 7: 2, 8: 5}, 'è': {2: 1, 3: 2, 4: 4, 6: 2, 7: 1, 8: 7}, 'q': {2: 4, 3: 1, 4: 9, 5: 2, 6: 1, 7: 1, 8: 8}, ',': {2: 2, 4: 7, 5: 2, 8: 7}, 'à': {2: 1, 3: 1, 4: 2, 5: 1, 8: 1}, 'ê': {3: 1}, 'j': {3: 2, 7: 2}, 'y': {3: 1, 4: 2, 6: 1, 7: 1, 8: 3}, '\\n': {4: 2, 8: 2}, 'C': {4: 1, 7: 1, 8: 1}, '(': {5: 1, 8: 1}, 'G': {5: 1}, ')': {5: 1, 8: 1}, 'T': {6: 2, 7: 1}, 'F': {6: 1}, 'w': {6: 1}, 'P': {6: 1}, 'J': {7: 1}, 'M': {7: 1}, 'â': {8: 1}, 'ç': {8: 1}}\n"
     ]
    }
   ],
   "source": [
    "# Inverted index contenant la fréquence par document\n",
    "inverted_index = {}\n",
    "\n",
    "# Parcourez chaque document dans votre corpus\n",
    "for idx, document_object in enumerate(corpus_list):\n",
    "    # Récupérez le contenu du document\n",
    "    document_content = document_object[\"content\"]\n",
    "\n",
    "    # Parcourez chaque mot dans le contenu du document\n",
    "    for word in document_content:\n",
    "        # Vérifiez si le mot est déjà dans l'inverted index\n",
    "        if word in inverted_index:\n",
    "            # Si oui, récupérez la liste de postings\n",
    "            posting_list = inverted_index[word]\n",
    "\n",
    "            # Vérifiez si le fichier est déjà répertorié dans les postings\n",
    "            if idx in posting_list:\n",
    "                # Si oui, augmentez la fréquence du fichier\n",
    "                posting_list[idx] += 1\n",
    "            else:\n",
    "                # Sinon, ajoutez le fichier à la liste des postings avec une fréquence de 1\n",
    "                posting_list[idx] = 1\n",
    "        else:\n",
    "            # Si le mot n'est pas dans l'inverted index, créez une nouvelle entrée\n",
    "            inverted_index[word] = {idx: 1}\n",
    "\n",
    "# À présent, inverted_index contient la fréquence par document (index) pour chaque mot de votre corpus\n",
    "print(inverted_index)\n"
   ]
  },
  {
   "cell_type": "markdown",
   "metadata": {},
   "source": [
    "# Étape de Posting et éxtraction de la position d'occurrence des termes"
   ]
  },
  {
   "cell_type": "code",
   "execution_count": 122,
   "metadata": {},
   "outputs": [
    {
     "name": "stdout",
     "output_type": "stream",
     "text": [
      "            Terme  Df  Freq. Totale  \\\n",
      "0             Les   4             4   \n",
      "1       véhicules   1             1   \n",
      "2       autonomes   1             1   \n",
      "3            sont  10            10   \n",
      "4              un   4             4   \n",
      "..            ...  ..           ...   \n",
      "199       humains   1             1   \n",
      "200    traitement   1             1   \n",
      "201    ordinateur   1             1   \n",
      "202       profond   1             1   \n",
      "203  intelligents   1             1   \n",
      "\n",
      "                                              Postings  \n",
      "0                        1: <1>, 5: <29, 101>, 9: <73>  \n",
      "1                                               1: <2>  \n",
      "2                                               1: <3>  \n",
      "3    1: <4>, 4: <16>, 5: <33, 79, 105, 115, 125>, 7...  \n",
      "4                          1: <5>, 4: <26>, 9: <7, 59>  \n",
      "..                                                 ...  \n",
      "199                                           9: <104>  \n",
      "200                                           9: <114>  \n",
      "201                                           9: <122>  \n",
      "202                                           9: <125>  \n",
      "203                                           9: <130>  \n",
      "\n",
      "[204 rows x 4 columns]\n"
     ]
    }
   ],
   "source": [
    "from nltk.tokenize import word_tokenize\n",
    "from collections import defaultdict\n",
    "import pandas as pd\n",
    "\n",
    "# Inverted index contenant la fréquence par document et les positions\n",
    "inverted_index = defaultdict(lambda: {\"df\": 0, \"freq_totale\": 0, \"postings\": {}})\n",
    "\n",
    "# Parcourez chaque document dans votre corpus\n",
    "for idx, document_object in enumerate(corpus_list):\n",
    "    # Récupérez le contenu du document\n",
    "    document_content = document_object[\"content\"]\n",
    "\n",
    "    # Tokenize le contenu du document\n",
    "    document_words = word_tokenize(document_content)\n",
    "\n",
    "    # Utilisez un ensemble pour suivre les positions déjà ajoutées\n",
    "    added_positions = set()\n",
    "\n",
    "    # Parcourez chaque mot dans le contenu du document\n",
    "    for position, word in enumerate(document_words):\n",
    "        # Mettez à jour l'inverted index pour le mot\n",
    "        term_info = inverted_index[word]\n",
    "        term_info[\"df\"] += 1\n",
    "        term_info[\"freq_totale\"] += 1\n",
    "\n",
    "        # Ajoutez la position du mot dans le document si elle n'a pas déjà été ajoutée\n",
    "        if idx in term_info[\"postings\"] and position not in added_positions:\n",
    "            term_info[\"postings\"][idx].append(position + 1)  # Ajoutez 1 car les positions commencent à 1\n",
    "            added_positions.add(position)\n",
    "\n",
    "        elif idx not in term_info[\"postings\"]:\n",
    "            term_info[\"postings\"][idx] = [position + 1]\n",
    "            added_positions.add(position)\n",
    "\n",
    "# Convertissez l'inverted index en DataFrame pour l'affichage\n",
    "df_data = {\"Terme\": [], \"Df\": [], \"Freq. Totale\": [], \"Postings\": []}\n",
    "\n",
    "for term, term_info in inverted_index.items():\n",
    "    df_data[\"Terme\"].append(term)\n",
    "    df_data[\"Df\"].append(term_info[\"df\"])\n",
    "    df_data[\"Freq. Totale\"].append(term_info[\"freq_totale\"])\n",
    "\n",
    "    postings_list = []\n",
    "    for doc_id, positions in term_info[\"postings\"].items():\n",
    "        postings_list.append(f\"{doc_id + 1}: {'<'+', '.join(map(str, positions))+'>'}\")\n",
    "\n",
    "    df_data[\"Postings\"].append(', '.join(postings_list))\n",
    "\n",
    "# Créez le DataFrame\n",
    "df = pd.DataFrame(df_data)\n",
    "\n",
    "# À présent, df contient les informations sur la fréquence par document et les positions pour chaque terme de votre corpus\n",
    "print(df)\n"
   ]
  },
  {
   "cell_type": "markdown",
   "metadata": {},
   "source": [
    "# Extensions de l’index de base : index basé sur les n-grams"
   ]
  },
  {
   "cell_type": "code",
   "execution_count": 123,
   "metadata": {},
   "outputs": [],
   "source": [
    "from nltk import ngrams, FreqDist\n",
    "from nltk.tokenize import word_tokenize"
   ]
  },
  {
   "cell_type": "code",
   "execution_count": 124,
   "metadata": {},
   "outputs": [
    {
     "name": "stdout",
     "output_type": "stream",
     "text": [
      "Document 1 Information:\n",
      "Content: Les véhicules autonomes sont un exemple de l'application de l'IA dans l'industrie automobile. Ils utilisent des capteurs et des algorithmes pour naviguer sans conducteur humain.\n",
      "Word n-grams: [('Les', 'véhicules', 'autonomes'), ('véhicules', 'autonomes', 'sont'), ('autonomes', 'sont', 'un'), ('sont', 'un', 'exemple'), ('un', 'exemple', 'de'), ('exemple', 'de', \"l'application\"), ('de', \"l'application\", 'de'), (\"l'application\", 'de', \"l'IA\"), ('de', \"l'IA\", 'dans'), (\"l'IA\", 'dans', \"l'industrie\"), ('dans', \"l'industrie\", 'automobile'), (\"l'industrie\", 'automobile', '.'), ('automobile', '.', 'Ils'), ('.', 'Ils', 'utilisent'), ('Ils', 'utilisent', 'des'), ('utilisent', 'des', 'capteurs'), ('des', 'capteurs', 'et'), ('capteurs', 'et', 'des'), ('et', 'des', 'algorithmes'), ('des', 'algorithmes', 'pour'), ('algorithmes', 'pour', 'naviguer'), ('pour', 'naviguer', 'sans'), ('naviguer', 'sans', 'conducteur'), ('sans', 'conducteur', 'humain'), ('conducteur', 'humain', '.')]\n",
      "Character n-grams: [('L', 'e', 's'), ('e', 's', ' '), ('s', ' ', 'v'), (' ', 'v', 'é'), ('v', 'é', 'h'), ('é', 'h', 'i'), ('h', 'i', 'c'), ('i', 'c', 'u'), ('c', 'u', 'l'), ('u', 'l', 'e'), ('l', 'e', 's'), ('e', 's', ' '), ('s', ' ', 'a'), (' ', 'a', 'u'), ('a', 'u', 't'), ('u', 't', 'o'), ('t', 'o', 'n'), ('o', 'n', 'o'), ('n', 'o', 'm'), ('o', 'm', 'e'), ('m', 'e', 's'), ('e', 's', ' '), ('s', ' ', 's'), (' ', 's', 'o'), ('s', 'o', 'n'), ('o', 'n', 't'), ('n', 't', ' '), ('t', ' ', 'u'), (' ', 'u', 'n'), ('u', 'n', ' '), ('n', ' ', 'e'), (' ', 'e', 'x'), ('e', 'x', 'e'), ('x', 'e', 'm'), ('e', 'm', 'p'), ('m', 'p', 'l'), ('p', 'l', 'e'), ('l', 'e', ' '), ('e', ' ', 'd'), (' ', 'd', 'e'), ('d', 'e', ' '), ('e', ' ', 'l'), (' ', 'l', \"'\"), ('l', \"'\", 'a'), (\"'\", 'a', 'p'), ('a', 'p', 'p'), ('p', 'p', 'l'), ('p', 'l', 'i'), ('l', 'i', 'c'), ('i', 'c', 'a'), ('c', 'a', 't'), ('a', 't', 'i'), ('t', 'i', 'o'), ('i', 'o', 'n'), ('o', 'n', ' '), ('n', ' ', 'd'), (' ', 'd', 'e'), ('d', 'e', ' '), ('e', ' ', 'l'), (' ', 'l', \"'\"), ('l', \"'\", 'I'), (\"'\", 'I', 'A'), ('I', 'A', ' '), ('A', ' ', 'd'), (' ', 'd', 'a'), ('d', 'a', 'n'), ('a', 'n', 's'), ('n', 's', ' '), ('s', ' ', 'l'), (' ', 'l', \"'\"), ('l', \"'\", 'i'), (\"'\", 'i', 'n'), ('i', 'n', 'd'), ('n', 'd', 'u'), ('d', 'u', 's'), ('u', 's', 't'), ('s', 't', 'r'), ('t', 'r', 'i'), ('r', 'i', 'e'), ('i', 'e', ' '), ('e', ' ', 'a'), (' ', 'a', 'u'), ('a', 'u', 't'), ('u', 't', 'o'), ('t', 'o', 'm'), ('o', 'm', 'o'), ('m', 'o', 'b'), ('o', 'b', 'i'), ('b', 'i', 'l'), ('i', 'l', 'e'), ('l', 'e', '.'), ('e', '.', ' '), ('.', ' ', 'I'), (' ', 'I', 'l'), ('I', 'l', 's'), ('l', 's', ' '), ('s', ' ', 'u'), (' ', 'u', 't'), ('u', 't', 'i'), ('t', 'i', 'l'), ('i', 'l', 'i'), ('l', 'i', 's'), ('i', 's', 'e'), ('s', 'e', 'n'), ('e', 'n', 't'), ('n', 't', ' '), ('t', ' ', 'd'), (' ', 'd', 'e'), ('d', 'e', 's'), ('e', 's', ' '), ('s', ' ', 'c'), (' ', 'c', 'a'), ('c', 'a', 'p'), ('a', 'p', 't'), ('p', 't', 'e'), ('t', 'e', 'u'), ('e', 'u', 'r'), ('u', 'r', 's'), ('r', 's', ' '), ('s', ' ', 'e'), (' ', 'e', 't'), ('e', 't', ' '), ('t', ' ', 'd'), (' ', 'd', 'e'), ('d', 'e', 's'), ('e', 's', ' '), ('s', ' ', 'a'), (' ', 'a', 'l'), ('a', 'l', 'g'), ('l', 'g', 'o'), ('g', 'o', 'r'), ('o', 'r', 'i'), ('r', 'i', 't'), ('i', 't', 'h'), ('t', 'h', 'm'), ('h', 'm', 'e'), ('m', 'e', 's'), ('e', 's', ' '), ('s', ' ', 'p'), (' ', 'p', 'o'), ('p', 'o', 'u'), ('o', 'u', 'r'), ('u', 'r', ' '), ('r', ' ', 'n'), (' ', 'n', 'a'), ('n', 'a', 'v'), ('a', 'v', 'i'), ('v', 'i', 'g'), ('i', 'g', 'u'), ('g', 'u', 'e'), ('u', 'e', 'r'), ('e', 'r', ' '), ('r', ' ', 's'), (' ', 's', 'a'), ('s', 'a', 'n'), ('a', 'n', 's'), ('n', 's', ' '), ('s', ' ', 'c'), (' ', 'c', 'o'), ('c', 'o', 'n'), ('o', 'n', 'd'), ('n', 'd', 'u'), ('d', 'u', 'c'), ('u', 'c', 't'), ('c', 't', 'e'), ('t', 'e', 'u'), ('e', 'u', 'r'), ('u', 'r', ' '), ('r', ' ', 'h'), (' ', 'h', 'u'), ('h', 'u', 'm'), ('u', 'm', 'a'), ('m', 'a', 'i'), ('a', 'i', 'n'), ('i', 'n', '.')]\n",
      "Word Frequency Distribution: {'Les': 1, 'véhicules': 1, 'autonomes': 1, 'sont': 1, 'un': 1, 'exemple': 1, 'de': 2, \"l'application\": 1, \"l'IA\": 1, 'dans': 1, \"l'industrie\": 1, 'automobile': 1, '.': 2, 'Ils': 1, 'utilisent': 1, 'des': 2, 'capteurs': 1, 'et': 1, 'algorithmes': 1, 'pour': 1, 'naviguer': 1, 'sans': 1, 'conducteur': 1, 'humain': 1}\n",
      "\n",
      "\n",
      "Document 2 Information:\n",
      "Content: L'automatisation alimentée par l'IA peut transformer les emplois et les industries. Il est important de comprendre son impact sur l'avenir du travail.\n",
      "Word n-grams: [(\"L'automatisation\", 'alimentée', 'par'), ('alimentée', 'par', \"l'IA\"), ('par', \"l'IA\", 'peut'), (\"l'IA\", 'peut', 'transformer'), ('peut', 'transformer', 'les'), ('transformer', 'les', 'emplois'), ('les', 'emplois', 'et'), ('emplois', 'et', 'les'), ('et', 'les', 'industries'), ('les', 'industries', '.'), ('industries', '.', 'Il'), ('.', 'Il', 'est'), ('Il', 'est', 'important'), ('est', 'important', 'de'), ('important', 'de', 'comprendre'), ('de', 'comprendre', 'son'), ('comprendre', 'son', 'impact'), ('son', 'impact', 'sur'), ('impact', 'sur', \"l'avenir\"), ('sur', \"l'avenir\", 'du'), (\"l'avenir\", 'du', 'travail'), ('du', 'travail', '.')]\n",
      "Character n-grams: [('L', \"'\", 'a'), (\"'\", 'a', 'u'), ('a', 'u', 't'), ('u', 't', 'o'), ('t', 'o', 'm'), ('o', 'm', 'a'), ('m', 'a', 't'), ('a', 't', 'i'), ('t', 'i', 's'), ('i', 's', 'a'), ('s', 'a', 't'), ('a', 't', 'i'), ('t', 'i', 'o'), ('i', 'o', 'n'), ('o', 'n', ' '), ('n', ' ', 'a'), (' ', 'a', 'l'), ('a', 'l', 'i'), ('l', 'i', 'm'), ('i', 'm', 'e'), ('m', 'e', 'n'), ('e', 'n', 't'), ('n', 't', 'é'), ('t', 'é', 'e'), ('é', 'e', ' '), ('e', ' ', 'p'), (' ', 'p', 'a'), ('p', 'a', 'r'), ('a', 'r', ' '), ('r', ' ', 'l'), (' ', 'l', \"'\"), ('l', \"'\", 'I'), (\"'\", 'I', 'A'), ('I', 'A', ' '), ('A', ' ', 'p'), (' ', 'p', 'e'), ('p', 'e', 'u'), ('e', 'u', 't'), ('u', 't', ' '), ('t', ' ', 't'), (' ', 't', 'r'), ('t', 'r', 'a'), ('r', 'a', 'n'), ('a', 'n', 's'), ('n', 's', 'f'), ('s', 'f', 'o'), ('f', 'o', 'r'), ('o', 'r', 'm'), ('r', 'm', 'e'), ('m', 'e', 'r'), ('e', 'r', ' '), ('r', ' ', 'l'), (' ', 'l', 'e'), ('l', 'e', 's'), ('e', 's', ' '), ('s', ' ', 'e'), (' ', 'e', 'm'), ('e', 'm', 'p'), ('m', 'p', 'l'), ('p', 'l', 'o'), ('l', 'o', 'i'), ('o', 'i', 's'), ('i', 's', ' '), ('s', ' ', 'e'), (' ', 'e', 't'), ('e', 't', ' '), ('t', ' ', 'l'), (' ', 'l', 'e'), ('l', 'e', 's'), ('e', 's', ' '), ('s', ' ', 'i'), (' ', 'i', 'n'), ('i', 'n', 'd'), ('n', 'd', 'u'), ('d', 'u', 's'), ('u', 's', 't'), ('s', 't', 'r'), ('t', 'r', 'i'), ('r', 'i', 'e'), ('i', 'e', 's'), ('e', 's', '.'), ('s', '.', ' '), ('.', ' ', 'I'), (' ', 'I', 'l'), ('I', 'l', ' '), ('l', ' ', 'e'), (' ', 'e', 's'), ('e', 's', 't'), ('s', 't', ' '), ('t', ' ', 'i'), (' ', 'i', 'm'), ('i', 'm', 'p'), ('m', 'p', 'o'), ('p', 'o', 'r'), ('o', 'r', 't'), ('r', 't', 'a'), ('t', 'a', 'n'), ('a', 'n', 't'), ('n', 't', ' '), ('t', ' ', 'd'), (' ', 'd', 'e'), ('d', 'e', ' '), ('e', ' ', 'c'), (' ', 'c', 'o'), ('c', 'o', 'm'), ('o', 'm', 'p'), ('m', 'p', 'r'), ('p', 'r', 'e'), ('r', 'e', 'n'), ('e', 'n', 'd'), ('n', 'd', 'r'), ('d', 'r', 'e'), ('r', 'e', ' '), ('e', ' ', 's'), (' ', 's', 'o'), ('s', 'o', 'n'), ('o', 'n', ' '), ('n', ' ', 'i'), (' ', 'i', 'm'), ('i', 'm', 'p'), ('m', 'p', 'a'), ('p', 'a', 'c'), ('a', 'c', 't'), ('c', 't', ' '), ('t', ' ', 's'), (' ', 's', 'u'), ('s', 'u', 'r'), ('u', 'r', ' '), ('r', ' ', 'l'), (' ', 'l', \"'\"), ('l', \"'\", 'a'), (\"'\", 'a', 'v'), ('a', 'v', 'e'), ('v', 'e', 'n'), ('e', 'n', 'i'), ('n', 'i', 'r'), ('i', 'r', ' '), ('r', ' ', 'd'), (' ', 'd', 'u'), ('d', 'u', ' '), ('u', ' ', 't'), (' ', 't', 'r'), ('t', 'r', 'a'), ('r', 'a', 'v'), ('a', 'v', 'a'), ('v', 'a', 'i'), ('a', 'i', 'l'), ('i', 'l', '.')]\n",
      "Word Frequency Distribution: {\"L'automatisation\": 1, 'alimentée': 1, 'par': 1, \"l'IA\": 1, 'peut': 1, 'transformer': 1, 'les': 2, 'emplois': 1, 'et': 1, 'industries': 1, '.': 2, 'Il': 1, 'est': 1, 'important': 1, 'de': 1, 'comprendre': 1, 'son': 1, 'impact': 1, 'sur': 1, \"l'avenir\": 1, 'du': 1, 'travail': 1}\n",
      "\n",
      "\n",
      "Document 3 Information:\n",
      "Content: L'IA soulève des questions éthiques importantes, notamment en ce qui concerne la vie privée, la transparence et la prise de décision automatisée. Il est essentiel de réfléchir à ces questions.\n",
      "Word n-grams: [(\"L'IA\", 'soulève', 'des'), ('soulève', 'des', 'questions'), ('des', 'questions', 'éthiques'), ('questions', 'éthiques', 'importantes'), ('éthiques', 'importantes', ','), ('importantes', ',', 'notamment'), (',', 'notamment', 'en'), ('notamment', 'en', 'ce'), ('en', 'ce', 'qui'), ('ce', 'qui', 'concerne'), ('qui', 'concerne', 'la'), ('concerne', 'la', 'vie'), ('la', 'vie', 'privée'), ('vie', 'privée', ','), ('privée', ',', 'la'), (',', 'la', 'transparence'), ('la', 'transparence', 'et'), ('transparence', 'et', 'la'), ('et', 'la', 'prise'), ('la', 'prise', 'de'), ('prise', 'de', 'décision'), ('de', 'décision', 'automatisée'), ('décision', 'automatisée', '.'), ('automatisée', '.', 'Il'), ('.', 'Il', 'est'), ('Il', 'est', 'essentiel'), ('est', 'essentiel', 'de'), ('essentiel', 'de', 'réfléchir'), ('de', 'réfléchir', 'à'), ('réfléchir', 'à', 'ces'), ('à', 'ces', 'questions'), ('ces', 'questions', '.')]\n",
      "Character n-grams: [('L', \"'\", 'I'), (\"'\", 'I', 'A'), ('I', 'A', ' '), ('A', ' ', 's'), (' ', 's', 'o'), ('s', 'o', 'u'), ('o', 'u', 'l'), ('u', 'l', 'è'), ('l', 'è', 'v'), ('è', 'v', 'e'), ('v', 'e', ' '), ('e', ' ', 'd'), (' ', 'd', 'e'), ('d', 'e', 's'), ('e', 's', ' '), ('s', ' ', 'q'), (' ', 'q', 'u'), ('q', 'u', 'e'), ('u', 'e', 's'), ('e', 's', 't'), ('s', 't', 'i'), ('t', 'i', 'o'), ('i', 'o', 'n'), ('o', 'n', 's'), ('n', 's', ' '), ('s', ' ', 'é'), (' ', 'é', 't'), ('é', 't', 'h'), ('t', 'h', 'i'), ('h', 'i', 'q'), ('i', 'q', 'u'), ('q', 'u', 'e'), ('u', 'e', 's'), ('e', 's', ' '), ('s', ' ', 'i'), (' ', 'i', 'm'), ('i', 'm', 'p'), ('m', 'p', 'o'), ('p', 'o', 'r'), ('o', 'r', 't'), ('r', 't', 'a'), ('t', 'a', 'n'), ('a', 'n', 't'), ('n', 't', 'e'), ('t', 'e', 's'), ('e', 's', ','), ('s', ',', ' '), (',', ' ', 'n'), (' ', 'n', 'o'), ('n', 'o', 't'), ('o', 't', 'a'), ('t', 'a', 'm'), ('a', 'm', 'm'), ('m', 'm', 'e'), ('m', 'e', 'n'), ('e', 'n', 't'), ('n', 't', ' '), ('t', ' ', 'e'), (' ', 'e', 'n'), ('e', 'n', ' '), ('n', ' ', 'c'), (' ', 'c', 'e'), ('c', 'e', ' '), ('e', ' ', 'q'), (' ', 'q', 'u'), ('q', 'u', 'i'), ('u', 'i', ' '), ('i', ' ', 'c'), (' ', 'c', 'o'), ('c', 'o', 'n'), ('o', 'n', 'c'), ('n', 'c', 'e'), ('c', 'e', 'r'), ('e', 'r', 'n'), ('r', 'n', 'e'), ('n', 'e', ' '), ('e', ' ', 'l'), (' ', 'l', 'a'), ('l', 'a', ' '), ('a', ' ', 'v'), (' ', 'v', 'i'), ('v', 'i', 'e'), ('i', 'e', ' '), ('e', ' ', 'p'), (' ', 'p', 'r'), ('p', 'r', 'i'), ('r', 'i', 'v'), ('i', 'v', 'é'), ('v', 'é', 'e'), ('é', 'e', ','), ('e', ',', ' '), (',', ' ', 'l'), (' ', 'l', 'a'), ('l', 'a', ' '), ('a', ' ', 't'), (' ', 't', 'r'), ('t', 'r', 'a'), ('r', 'a', 'n'), ('a', 'n', 's'), ('n', 's', 'p'), ('s', 'p', 'a'), ('p', 'a', 'r'), ('a', 'r', 'e'), ('r', 'e', 'n'), ('e', 'n', 'c'), ('n', 'c', 'e'), ('c', 'e', ' '), ('e', ' ', 'e'), (' ', 'e', 't'), ('e', 't', ' '), ('t', ' ', 'l'), (' ', 'l', 'a'), ('l', 'a', ' '), ('a', ' ', 'p'), (' ', 'p', 'r'), ('p', 'r', 'i'), ('r', 'i', 's'), ('i', 's', 'e'), ('s', 'e', ' '), ('e', ' ', 'd'), (' ', 'd', 'e'), ('d', 'e', ' '), ('e', ' ', 'd'), (' ', 'd', 'é'), ('d', 'é', 'c'), ('é', 'c', 'i'), ('c', 'i', 's'), ('i', 's', 'i'), ('s', 'i', 'o'), ('i', 'o', 'n'), ('o', 'n', ' '), ('n', ' ', 'a'), (' ', 'a', 'u'), ('a', 'u', 't'), ('u', 't', 'o'), ('t', 'o', 'm'), ('o', 'm', 'a'), ('m', 'a', 't'), ('a', 't', 'i'), ('t', 'i', 's'), ('i', 's', 'é'), ('s', 'é', 'e'), ('é', 'e', '.'), ('e', '.', ' '), ('.', ' ', 'I'), (' ', 'I', 'l'), ('I', 'l', ' '), ('l', ' ', 'e'), (' ', 'e', 's'), ('e', 's', 't'), ('s', 't', ' '), ('t', ' ', 'e'), (' ', 'e', 's'), ('e', 's', 's'), ('s', 's', 'e'), ('s', 'e', 'n'), ('e', 'n', 't'), ('n', 't', 'i'), ('t', 'i', 'e'), ('i', 'e', 'l'), ('e', 'l', ' '), ('l', ' ', 'd'), (' ', 'd', 'e'), ('d', 'e', ' '), ('e', ' ', 'r'), (' ', 'r', 'é'), ('r', 'é', 'f'), ('é', 'f', 'l'), ('f', 'l', 'é'), ('l', 'é', 'c'), ('é', 'c', 'h'), ('c', 'h', 'i'), ('h', 'i', 'r'), ('i', 'r', ' '), ('r', ' ', 'à'), (' ', 'à', ' '), ('à', ' ', 'c'), (' ', 'c', 'e'), ('c', 'e', 's'), ('e', 's', ' '), ('s', ' ', 'q'), (' ', 'q', 'u'), ('q', 'u', 'e'), ('u', 'e', 's'), ('e', 's', 't'), ('s', 't', 'i'), ('t', 'i', 'o'), ('i', 'o', 'n'), ('o', 'n', 's'), ('n', 's', '.')]\n",
      "Word Frequency Distribution: {\"L'IA\": 1, 'soulève': 1, 'des': 1, 'questions': 2, 'éthiques': 1, 'importantes': 1, ',': 2, 'notamment': 1, 'en': 1, 'ce': 1, 'qui': 1, 'concerne': 1, 'la': 3, 'vie': 1, 'privée': 1, 'transparence': 1, 'et': 1, 'prise': 1, 'de': 2, 'décision': 1, 'automatisée': 1, '.': 2, 'Il': 1, 'est': 1, 'essentiel': 1, 'réfléchir': 1, 'à': 1, 'ces': 1}\n",
      "\n",
      "\n",
      "Document 4 Information:\n",
      "Content: L'IA peut être sujette à des biais si les données utilisées pour former les modèles sont biaisées. Assurer l'équité dans les systèmes d'IA est un défi majeur.\n",
      "Word n-grams: [(\"L'IA\", 'peut', 'être'), ('peut', 'être', 'sujette'), ('être', 'sujette', 'à'), ('sujette', 'à', 'des'), ('à', 'des', 'biais'), ('des', 'biais', 'si'), ('biais', 'si', 'les'), ('si', 'les', 'données'), ('les', 'données', 'utilisées'), ('données', 'utilisées', 'pour'), ('utilisées', 'pour', 'former'), ('pour', 'former', 'les'), ('former', 'les', 'modèles'), ('les', 'modèles', 'sont'), ('modèles', 'sont', 'biaisées'), ('sont', 'biaisées', '.'), ('biaisées', '.', 'Assurer'), ('.', 'Assurer', \"l'équité\"), ('Assurer', \"l'équité\", 'dans'), (\"l'équité\", 'dans', 'les'), ('dans', 'les', 'systèmes'), ('les', 'systèmes', \"d'IA\"), ('systèmes', \"d'IA\", 'est'), (\"d'IA\", 'est', 'un'), ('est', 'un', 'défi'), ('un', 'défi', 'majeur'), ('défi', 'majeur', '.')]\n",
      "Character n-grams: [('L', \"'\", 'I'), (\"'\", 'I', 'A'), ('I', 'A', ' '), ('A', ' ', 'p'), (' ', 'p', 'e'), ('p', 'e', 'u'), ('e', 'u', 't'), ('u', 't', ' '), ('t', ' ', 'ê'), (' ', 'ê', 't'), ('ê', 't', 'r'), ('t', 'r', 'e'), ('r', 'e', ' '), ('e', ' ', 's'), (' ', 's', 'u'), ('s', 'u', 'j'), ('u', 'j', 'e'), ('j', 'e', 't'), ('e', 't', 't'), ('t', 't', 'e'), ('t', 'e', ' '), ('e', ' ', 'à'), (' ', 'à', ' '), ('à', ' ', 'd'), (' ', 'd', 'e'), ('d', 'e', 's'), ('e', 's', ' '), ('s', ' ', 'b'), (' ', 'b', 'i'), ('b', 'i', 'a'), ('i', 'a', 'i'), ('a', 'i', 's'), ('i', 's', ' '), ('s', ' ', 's'), (' ', 's', 'i'), ('s', 'i', ' '), ('i', ' ', 'l'), (' ', 'l', 'e'), ('l', 'e', 's'), ('e', 's', ' '), ('s', ' ', 'd'), (' ', 'd', 'o'), ('d', 'o', 'n'), ('o', 'n', 'n'), ('n', 'n', 'é'), ('n', 'é', 'e'), ('é', 'e', 's'), ('e', 's', ' '), ('s', ' ', 'u'), (' ', 'u', 't'), ('u', 't', 'i'), ('t', 'i', 'l'), ('i', 'l', 'i'), ('l', 'i', 's'), ('i', 's', 'é'), ('s', 'é', 'e'), ('é', 'e', 's'), ('e', 's', ' '), ('s', ' ', 'p'), (' ', 'p', 'o'), ('p', 'o', 'u'), ('o', 'u', 'r'), ('u', 'r', ' '), ('r', ' ', 'f'), (' ', 'f', 'o'), ('f', 'o', 'r'), ('o', 'r', 'm'), ('r', 'm', 'e'), ('m', 'e', 'r'), ('e', 'r', ' '), ('r', ' ', 'l'), (' ', 'l', 'e'), ('l', 'e', 's'), ('e', 's', ' '), ('s', ' ', 'm'), (' ', 'm', 'o'), ('m', 'o', 'd'), ('o', 'd', 'è'), ('d', 'è', 'l'), ('è', 'l', 'e'), ('l', 'e', 's'), ('e', 's', ' '), ('s', ' ', 's'), (' ', 's', 'o'), ('s', 'o', 'n'), ('o', 'n', 't'), ('n', 't', ' '), ('t', ' ', 'b'), (' ', 'b', 'i'), ('b', 'i', 'a'), ('i', 'a', 'i'), ('a', 'i', 's'), ('i', 's', 'é'), ('s', 'é', 'e'), ('é', 'e', 's'), ('e', 's', '.'), ('s', '.', ' '), ('.', ' ', 'A'), (' ', 'A', 's'), ('A', 's', 's'), ('s', 's', 'u'), ('s', 'u', 'r'), ('u', 'r', 'e'), ('r', 'e', 'r'), ('e', 'r', ' '), ('r', ' ', 'l'), (' ', 'l', \"'\"), ('l', \"'\", 'é'), (\"'\", 'é', 'q'), ('é', 'q', 'u'), ('q', 'u', 'i'), ('u', 'i', 't'), ('i', 't', 'é'), ('t', 'é', ' '), ('é', ' ', 'd'), (' ', 'd', 'a'), ('d', 'a', 'n'), ('a', 'n', 's'), ('n', 's', ' '), ('s', ' ', 'l'), (' ', 'l', 'e'), ('l', 'e', 's'), ('e', 's', ' '), ('s', ' ', 's'), (' ', 's', 'y'), ('s', 'y', 's'), ('y', 's', 't'), ('s', 't', 'è'), ('t', 'è', 'm'), ('è', 'm', 'e'), ('m', 'e', 's'), ('e', 's', ' '), ('s', ' ', 'd'), (' ', 'd', \"'\"), ('d', \"'\", 'I'), (\"'\", 'I', 'A'), ('I', 'A', ' '), ('A', ' ', 'e'), (' ', 'e', 's'), ('e', 's', 't'), ('s', 't', ' '), ('t', ' ', 'u'), (' ', 'u', 'n'), ('u', 'n', ' '), ('n', ' ', 'd'), (' ', 'd', 'é'), ('d', 'é', 'f'), ('é', 'f', 'i'), ('f', 'i', ' '), ('i', ' ', 'm'), (' ', 'm', 'a'), ('m', 'a', 'j'), ('a', 'j', 'e'), ('j', 'e', 'u'), ('e', 'u', 'r'), ('u', 'r', '.')]\n",
      "Word Frequency Distribution: {\"L'IA\": 1, 'peut': 1, 'être': 1, 'sujette': 1, 'à': 1, 'des': 1, 'biais': 1, 'si': 1, 'les': 3, 'données': 1, 'utilisées': 1, 'pour': 1, 'former': 1, 'modèles': 1, 'sont': 1, 'biaisées': 1, '.': 2, 'Assurer': 1, \"l'équité\": 1, 'dans': 1, 'systèmes': 1, \"d'IA\": 1, 'est': 1, 'un': 1, 'défi': 1, 'majeur': 1}\n",
      "\n",
      "\n",
      "Document 5 Information:\n",
      "Content: L'apprentissage automatique est l'une des branches les plus importantes de l'intelligence artificielle. Il repose sur des algorithmes qui permettent aux ordinateurs d'apprendre à partir de données. Les systèmes d'apprentissage automatique sont capables d'analyser des ensembles de données, de détecter des schémas et de prendre des décisions basées sur ces modèles.\n",
      "\n",
      "L'apprentissage automatique comprend diverses techniques, telles que la régression, la classification, le clustering et la reconnaissance de motifs. Ces techniques sont utilisées dans une variété de domaines, de la prédiction de tendances financières à la recommandation de produits en ligne. Les algorithmes d'apprentissage automatique sont alimentés par des données, et plus les données sont riches et pertinentes, plus les modèles d'apprentissage automatique sont performants.\n",
      "Word n-grams: [(\"L'apprentissage\", 'automatique', 'est'), ('automatique', 'est', \"l'une\"), ('est', \"l'une\", 'des'), (\"l'une\", 'des', 'branches'), ('des', 'branches', 'les'), ('branches', 'les', 'plus'), ('les', 'plus', 'importantes'), ('plus', 'importantes', 'de'), ('importantes', 'de', \"l'intelligence\"), ('de', \"l'intelligence\", 'artificielle'), (\"l'intelligence\", 'artificielle', '.'), ('artificielle', '.', 'Il'), ('.', 'Il', 'repose'), ('Il', 'repose', 'sur'), ('repose', 'sur', 'des'), ('sur', 'des', 'algorithmes'), ('des', 'algorithmes', 'qui'), ('algorithmes', 'qui', 'permettent'), ('qui', 'permettent', 'aux'), ('permettent', 'aux', 'ordinateurs'), ('aux', 'ordinateurs', \"d'apprendre\"), ('ordinateurs', \"d'apprendre\", 'à'), (\"d'apprendre\", 'à', 'partir'), ('à', 'partir', 'de'), ('partir', 'de', 'données'), ('de', 'données', '.'), ('données', '.', 'Les'), ('.', 'Les', 'systèmes'), ('Les', 'systèmes', \"d'apprentissage\"), ('systèmes', \"d'apprentissage\", 'automatique'), (\"d'apprentissage\", 'automatique', 'sont'), ('automatique', 'sont', 'capables'), ('sont', 'capables', \"d'analyser\"), ('capables', \"d'analyser\", 'des'), (\"d'analyser\", 'des', 'ensembles'), ('des', 'ensembles', 'de'), ('ensembles', 'de', 'données'), ('de', 'données', ','), ('données', ',', 'de'), (',', 'de', 'détecter'), ('de', 'détecter', 'des'), ('détecter', 'des', 'schémas'), ('des', 'schémas', 'et'), ('schémas', 'et', 'de'), ('et', 'de', 'prendre'), ('de', 'prendre', 'des'), ('prendre', 'des', 'décisions'), ('des', 'décisions', 'basées'), ('décisions', 'basées', 'sur'), ('basées', 'sur', 'ces'), ('sur', 'ces', 'modèles'), ('ces', 'modèles', '.'), ('modèles', '.', \"L'apprentissage\"), ('.', \"L'apprentissage\", 'automatique'), (\"L'apprentissage\", 'automatique', 'comprend'), ('automatique', 'comprend', 'diverses'), ('comprend', 'diverses', 'techniques'), ('diverses', 'techniques', ','), ('techniques', ',', 'telles'), (',', 'telles', 'que'), ('telles', 'que', 'la'), ('que', 'la', 'régression'), ('la', 'régression', ','), ('régression', ',', 'la'), (',', 'la', 'classification'), ('la', 'classification', ','), ('classification', ',', 'le'), (',', 'le', 'clustering'), ('le', 'clustering', 'et'), ('clustering', 'et', 'la'), ('et', 'la', 'reconnaissance'), ('la', 'reconnaissance', 'de'), ('reconnaissance', 'de', 'motifs'), ('de', 'motifs', '.'), ('motifs', '.', 'Ces'), ('.', 'Ces', 'techniques'), ('Ces', 'techniques', 'sont'), ('techniques', 'sont', 'utilisées'), ('sont', 'utilisées', 'dans'), ('utilisées', 'dans', 'une'), ('dans', 'une', 'variété'), ('une', 'variété', 'de'), ('variété', 'de', 'domaines'), ('de', 'domaines', ','), ('domaines', ',', 'de'), (',', 'de', 'la'), ('de', 'la', 'prédiction'), ('la', 'prédiction', 'de'), ('prédiction', 'de', 'tendances'), ('de', 'tendances', 'financières'), ('tendances', 'financières', 'à'), ('financières', 'à', 'la'), ('à', 'la', 'recommandation'), ('la', 'recommandation', 'de'), ('recommandation', 'de', 'produits'), ('de', 'produits', 'en'), ('produits', 'en', 'ligne'), ('en', 'ligne', '.'), ('ligne', '.', 'Les'), ('.', 'Les', 'algorithmes'), ('Les', 'algorithmes', \"d'apprentissage\"), ('algorithmes', \"d'apprentissage\", 'automatique'), (\"d'apprentissage\", 'automatique', 'sont'), ('automatique', 'sont', 'alimentés'), ('sont', 'alimentés', 'par'), ('alimentés', 'par', 'des'), ('par', 'des', 'données'), ('des', 'données', ','), ('données', ',', 'et'), (',', 'et', 'plus'), ('et', 'plus', 'les'), ('plus', 'les', 'données'), ('les', 'données', 'sont'), ('données', 'sont', 'riches'), ('sont', 'riches', 'et'), ('riches', 'et', 'pertinentes'), ('et', 'pertinentes', ','), ('pertinentes', ',', 'plus'), (',', 'plus', 'les'), ('plus', 'les', 'modèles'), ('les', 'modèles', \"d'apprentissage\"), ('modèles', \"d'apprentissage\", 'automatique'), (\"d'apprentissage\", 'automatique', 'sont'), ('automatique', 'sont', 'performants'), ('sont', 'performants', '.')]\n",
      "Character n-grams: [('L', \"'\", 'a'), (\"'\", 'a', 'p'), ('a', 'p', 'p'), ('p', 'p', 'r'), ('p', 'r', 'e'), ('r', 'e', 'n'), ('e', 'n', 't'), ('n', 't', 'i'), ('t', 'i', 's'), ('i', 's', 's'), ('s', 's', 'a'), ('s', 'a', 'g'), ('a', 'g', 'e'), ('g', 'e', ' '), ('e', ' ', 'a'), (' ', 'a', 'u'), ('a', 'u', 't'), ('u', 't', 'o'), ('t', 'o', 'm'), ('o', 'm', 'a'), ('m', 'a', 't'), ('a', 't', 'i'), ('t', 'i', 'q'), ('i', 'q', 'u'), ('q', 'u', 'e'), ('u', 'e', ' '), ('e', ' ', 'e'), (' ', 'e', 's'), ('e', 's', 't'), ('s', 't', ' '), ('t', ' ', 'l'), (' ', 'l', \"'\"), ('l', \"'\", 'u'), (\"'\", 'u', 'n'), ('u', 'n', 'e'), ('n', 'e', ' '), ('e', ' ', 'd'), (' ', 'd', 'e'), ('d', 'e', 's'), ('e', 's', ' '), ('s', ' ', 'b'), (' ', 'b', 'r'), ('b', 'r', 'a'), ('r', 'a', 'n'), ('a', 'n', 'c'), ('n', 'c', 'h'), ('c', 'h', 'e'), ('h', 'e', 's'), ('e', 's', ' '), ('s', ' ', 'l'), (' ', 'l', 'e'), ('l', 'e', 's'), ('e', 's', ' '), ('s', ' ', 'p'), (' ', 'p', 'l'), ('p', 'l', 'u'), ('l', 'u', 's'), ('u', 's', ' '), ('s', ' ', 'i'), (' ', 'i', 'm'), ('i', 'm', 'p'), ('m', 'p', 'o'), ('p', 'o', 'r'), ('o', 'r', 't'), ('r', 't', 'a'), ('t', 'a', 'n'), ('a', 'n', 't'), ('n', 't', 'e'), ('t', 'e', 's'), ('e', 's', ' '), ('s', ' ', 'd'), (' ', 'd', 'e'), ('d', 'e', ' '), ('e', ' ', 'l'), (' ', 'l', \"'\"), ('l', \"'\", 'i'), (\"'\", 'i', 'n'), ('i', 'n', 't'), ('n', 't', 'e'), ('t', 'e', 'l'), ('e', 'l', 'l'), ('l', 'l', 'i'), ('l', 'i', 'g'), ('i', 'g', 'e'), ('g', 'e', 'n'), ('e', 'n', 'c'), ('n', 'c', 'e'), ('c', 'e', ' '), ('e', ' ', 'a'), (' ', 'a', 'r'), ('a', 'r', 't'), ('r', 't', 'i'), ('t', 'i', 'f'), ('i', 'f', 'i'), ('f', 'i', 'c'), ('i', 'c', 'i'), ('c', 'i', 'e'), ('i', 'e', 'l'), ('e', 'l', 'l'), ('l', 'l', 'e'), ('l', 'e', '.'), ('e', '.', ' '), ('.', ' ', 'I'), (' ', 'I', 'l'), ('I', 'l', ' '), ('l', ' ', 'r'), (' ', 'r', 'e'), ('r', 'e', 'p'), ('e', 'p', 'o'), ('p', 'o', 's'), ('o', 's', 'e'), ('s', 'e', ' '), ('e', ' ', 's'), (' ', 's', 'u'), ('s', 'u', 'r'), ('u', 'r', ' '), ('r', ' ', 'd'), (' ', 'd', 'e'), ('d', 'e', 's'), ('e', 's', ' '), ('s', ' ', 'a'), (' ', 'a', 'l'), ('a', 'l', 'g'), ('l', 'g', 'o'), ('g', 'o', 'r'), ('o', 'r', 'i'), ('r', 'i', 't'), ('i', 't', 'h'), ('t', 'h', 'm'), ('h', 'm', 'e'), ('m', 'e', 's'), ('e', 's', ' '), ('s', ' ', 'q'), (' ', 'q', 'u'), ('q', 'u', 'i'), ('u', 'i', ' '), ('i', ' ', 'p'), (' ', 'p', 'e'), ('p', 'e', 'r'), ('e', 'r', 'm'), ('r', 'm', 'e'), ('m', 'e', 't'), ('e', 't', 't'), ('t', 't', 'e'), ('t', 'e', 'n'), ('e', 'n', 't'), ('n', 't', ' '), ('t', ' ', 'a'), (' ', 'a', 'u'), ('a', 'u', 'x'), ('u', 'x', ' '), ('x', ' ', 'o'), (' ', 'o', 'r'), ('o', 'r', 'd'), ('r', 'd', 'i'), ('d', 'i', 'n'), ('i', 'n', 'a'), ('n', 'a', 't'), ('a', 't', 'e'), ('t', 'e', 'u'), ('e', 'u', 'r'), ('u', 'r', 's'), ('r', 's', ' '), ('s', ' ', 'd'), (' ', 'd', \"'\"), ('d', \"'\", 'a'), (\"'\", 'a', 'p'), ('a', 'p', 'p'), ('p', 'p', 'r'), ('p', 'r', 'e'), ('r', 'e', 'n'), ('e', 'n', 'd'), ('n', 'd', 'r'), ('d', 'r', 'e'), ('r', 'e', ' '), ('e', ' ', 'à'), (' ', 'à', ' '), ('à', ' ', 'p'), (' ', 'p', 'a'), ('p', 'a', 'r'), ('a', 'r', 't'), ('r', 't', 'i'), ('t', 'i', 'r'), ('i', 'r', ' '), ('r', ' ', 'd'), (' ', 'd', 'e'), ('d', 'e', ' '), ('e', ' ', 'd'), (' ', 'd', 'o'), ('d', 'o', 'n'), ('o', 'n', 'n'), ('n', 'n', 'é'), ('n', 'é', 'e'), ('é', 'e', 's'), ('e', 's', '.'), ('s', '.', ' '), ('.', ' ', 'L'), (' ', 'L', 'e'), ('L', 'e', 's'), ('e', 's', ' '), ('s', ' ', 's'), (' ', 's', 'y'), ('s', 'y', 's'), ('y', 's', 't'), ('s', 't', 'è'), ('t', 'è', 'm'), ('è', 'm', 'e'), ('m', 'e', 's'), ('e', 's', ' '), ('s', ' ', 'd'), (' ', 'd', \"'\"), ('d', \"'\", 'a'), (\"'\", 'a', 'p'), ('a', 'p', 'p'), ('p', 'p', 'r'), ('p', 'r', 'e'), ('r', 'e', 'n'), ('e', 'n', 't'), ('n', 't', 'i'), ('t', 'i', 's'), ('i', 's', 's'), ('s', 's', 'a'), ('s', 'a', 'g'), ('a', 'g', 'e'), ('g', 'e', ' '), ('e', ' ', 'a'), (' ', 'a', 'u'), ('a', 'u', 't'), ('u', 't', 'o'), ('t', 'o', 'm'), ('o', 'm', 'a'), ('m', 'a', 't'), ('a', 't', 'i'), ('t', 'i', 'q'), ('i', 'q', 'u'), ('q', 'u', 'e'), ('u', 'e', ' '), ('e', ' ', 's'), (' ', 's', 'o'), ('s', 'o', 'n'), ('o', 'n', 't'), ('n', 't', ' '), ('t', ' ', 'c'), (' ', 'c', 'a'), ('c', 'a', 'p'), ('a', 'p', 'a'), ('p', 'a', 'b'), ('a', 'b', 'l'), ('b', 'l', 'e'), ('l', 'e', 's'), ('e', 's', ' '), ('s', ' ', 'd'), (' ', 'd', \"'\"), ('d', \"'\", 'a'), (\"'\", 'a', 'n'), ('a', 'n', 'a'), ('n', 'a', 'l'), ('a', 'l', 'y'), ('l', 'y', 's'), ('y', 's', 'e'), ('s', 'e', 'r'), ('e', 'r', ' '), ('r', ' ', 'd'), (' ', 'd', 'e'), ('d', 'e', 's'), ('e', 's', ' '), ('s', ' ', 'e'), (' ', 'e', 'n'), ('e', 'n', 's'), ('n', 's', 'e'), ('s', 'e', 'm'), ('e', 'm', 'b'), ('m', 'b', 'l'), ('b', 'l', 'e'), ('l', 'e', 's'), ('e', 's', ' '), ('s', ' ', 'd'), (' ', 'd', 'e'), ('d', 'e', ' '), ('e', ' ', 'd'), (' ', 'd', 'o'), ('d', 'o', 'n'), ('o', 'n', 'n'), ('n', 'n', 'é'), ('n', 'é', 'e'), ('é', 'e', 's'), ('e', 's', ','), ('s', ',', ' '), (',', ' ', 'd'), (' ', 'd', 'e'), ('d', 'e', ' '), ('e', ' ', 'd'), (' ', 'd', 'é'), ('d', 'é', 't'), ('é', 't', 'e'), ('t', 'e', 'c'), ('e', 'c', 't'), ('c', 't', 'e'), ('t', 'e', 'r'), ('e', 'r', ' '), ('r', ' ', 'd'), (' ', 'd', 'e'), ('d', 'e', 's'), ('e', 's', ' '), ('s', ' ', 's'), (' ', 's', 'c'), ('s', 'c', 'h'), ('c', 'h', 'é'), ('h', 'é', 'm'), ('é', 'm', 'a'), ('m', 'a', 's'), ('a', 's', ' '), ('s', ' ', 'e'), (' ', 'e', 't'), ('e', 't', ' '), ('t', ' ', 'd'), (' ', 'd', 'e'), ('d', 'e', ' '), ('e', ' ', 'p'), (' ', 'p', 'r'), ('p', 'r', 'e'), ('r', 'e', 'n'), ('e', 'n', 'd'), ('n', 'd', 'r'), ('d', 'r', 'e'), ('r', 'e', ' '), ('e', ' ', 'd'), (' ', 'd', 'e'), ('d', 'e', 's'), ('e', 's', ' '), ('s', ' ', 'd'), (' ', 'd', 'é'), ('d', 'é', 'c'), ('é', 'c', 'i'), ('c', 'i', 's'), ('i', 's', 'i'), ('s', 'i', 'o'), ('i', 'o', 'n'), ('o', 'n', 's'), ('n', 's', ' '), ('s', ' ', 'b'), (' ', 'b', 'a'), ('b', 'a', 's'), ('a', 's', 'é'), ('s', 'é', 'e'), ('é', 'e', 's'), ('e', 's', ' '), ('s', ' ', 's'), (' ', 's', 'u'), ('s', 'u', 'r'), ('u', 'r', ' '), ('r', ' ', 'c'), (' ', 'c', 'e'), ('c', 'e', 's'), ('e', 's', ' '), ('s', ' ', 'm'), (' ', 'm', 'o'), ('m', 'o', 'd'), ('o', 'd', 'è'), ('d', 'è', 'l'), ('è', 'l', 'e'), ('l', 'e', 's'), ('e', 's', '.'), ('s', '.', '\\n'), ('.', '\\n', '\\n'), ('\\n', '\\n', 'L'), ('\\n', 'L', \"'\"), ('L', \"'\", 'a'), (\"'\", 'a', 'p'), ('a', 'p', 'p'), ('p', 'p', 'r'), ('p', 'r', 'e'), ('r', 'e', 'n'), ('e', 'n', 't'), ('n', 't', 'i'), ('t', 'i', 's'), ('i', 's', 's'), ('s', 's', 'a'), ('s', 'a', 'g'), ('a', 'g', 'e'), ('g', 'e', ' '), ('e', ' ', 'a'), (' ', 'a', 'u'), ('a', 'u', 't'), ('u', 't', 'o'), ('t', 'o', 'm'), ('o', 'm', 'a'), ('m', 'a', 't'), ('a', 't', 'i'), ('t', 'i', 'q'), ('i', 'q', 'u'), ('q', 'u', 'e'), ('u', 'e', ' '), ('e', ' ', 'c'), (' ', 'c', 'o'), ('c', 'o', 'm'), ('o', 'm', 'p'), ('m', 'p', 'r'), ('p', 'r', 'e'), ('r', 'e', 'n'), ('e', 'n', 'd'), ('n', 'd', ' '), ('d', ' ', 'd'), (' ', 'd', 'i'), ('d', 'i', 'v'), ('i', 'v', 'e'), ('v', 'e', 'r'), ('e', 'r', 's'), ('r', 's', 'e'), ('s', 'e', 's'), ('e', 's', ' '), ('s', ' ', 't'), (' ', 't', 'e'), ('t', 'e', 'c'), ('e', 'c', 'h'), ('c', 'h', 'n'), ('h', 'n', 'i'), ('n', 'i', 'q'), ('i', 'q', 'u'), ('q', 'u', 'e'), ('u', 'e', 's'), ('e', 's', ','), ('s', ',', ' '), (',', ' ', 't'), (' ', 't', 'e'), ('t', 'e', 'l'), ('e', 'l', 'l'), ('l', 'l', 'e'), ('l', 'e', 's'), ('e', 's', ' '), ('s', ' ', 'q'), (' ', 'q', 'u'), ('q', 'u', 'e'), ('u', 'e', ' '), ('e', ' ', 'l'), (' ', 'l', 'a'), ('l', 'a', ' '), ('a', ' ', 'r'), (' ', 'r', 'é'), ('r', 'é', 'g'), ('é', 'g', 'r'), ('g', 'r', 'e'), ('r', 'e', 's'), ('e', 's', 's'), ('s', 's', 'i'), ('s', 'i', 'o'), ('i', 'o', 'n'), ('o', 'n', ','), ('n', ',', ' '), (',', ' ', 'l'), (' ', 'l', 'a'), ('l', 'a', ' '), ('a', ' ', 'c'), (' ', 'c', 'l'), ('c', 'l', 'a'), ('l', 'a', 's'), ('a', 's', 's'), ('s', 's', 'i'), ('s', 'i', 'f'), ('i', 'f', 'i'), ('f', 'i', 'c'), ('i', 'c', 'a'), ('c', 'a', 't'), ('a', 't', 'i'), ('t', 'i', 'o'), ('i', 'o', 'n'), ('o', 'n', ','), ('n', ',', ' '), (',', ' ', 'l'), (' ', 'l', 'e'), ('l', 'e', ' '), ('e', ' ', 'c'), (' ', 'c', 'l'), ('c', 'l', 'u'), ('l', 'u', 's'), ('u', 's', 't'), ('s', 't', 'e'), ('t', 'e', 'r'), ('e', 'r', 'i'), ('r', 'i', 'n'), ('i', 'n', 'g'), ('n', 'g', ' '), ('g', ' ', 'e'), (' ', 'e', 't'), ('e', 't', ' '), ('t', ' ', 'l'), (' ', 'l', 'a'), ('l', 'a', ' '), ('a', ' ', 'r'), (' ', 'r', 'e'), ('r', 'e', 'c'), ('e', 'c', 'o'), ('c', 'o', 'n'), ('o', 'n', 'n'), ('n', 'n', 'a'), ('n', 'a', 'i'), ('a', 'i', 's'), ('i', 's', 's'), ('s', 's', 'a'), ('s', 'a', 'n'), ('a', 'n', 'c'), ('n', 'c', 'e'), ('c', 'e', ' '), ('e', ' ', 'd'), (' ', 'd', 'e'), ('d', 'e', ' '), ('e', ' ', 'm'), (' ', 'm', 'o'), ('m', 'o', 't'), ('o', 't', 'i'), ('t', 'i', 'f'), ('i', 'f', 's'), ('f', 's', '.'), ('s', '.', ' '), ('.', ' ', 'C'), (' ', 'C', 'e'), ('C', 'e', 's'), ('e', 's', ' '), ('s', ' ', 't'), (' ', 't', 'e'), ('t', 'e', 'c'), ('e', 'c', 'h'), ('c', 'h', 'n'), ('h', 'n', 'i'), ('n', 'i', 'q'), ('i', 'q', 'u'), ('q', 'u', 'e'), ('u', 'e', 's'), ('e', 's', ' '), ('s', ' ', 's'), (' ', 's', 'o'), ('s', 'o', 'n'), ('o', 'n', 't'), ('n', 't', ' '), ('t', ' ', 'u'), (' ', 'u', 't'), ('u', 't', 'i'), ('t', 'i', 'l'), ('i', 'l', 'i'), ('l', 'i', 's'), ('i', 's', 'é'), ('s', 'é', 'e'), ('é', 'e', 's'), ('e', 's', ' '), ('s', ' ', 'd'), (' ', 'd', 'a'), ('d', 'a', 'n'), ('a', 'n', 's'), ('n', 's', ' '), ('s', ' ', 'u'), (' ', 'u', 'n'), ('u', 'n', 'e'), ('n', 'e', ' '), ('e', ' ', 'v'), (' ', 'v', 'a'), ('v', 'a', 'r'), ('a', 'r', 'i'), ('r', 'i', 'é'), ('i', 'é', 't'), ('é', 't', 'é'), ('t', 'é', ' '), ('é', ' ', 'd'), (' ', 'd', 'e'), ('d', 'e', ' '), ('e', ' ', 'd'), (' ', 'd', 'o'), ('d', 'o', 'm'), ('o', 'm', 'a'), ('m', 'a', 'i'), ('a', 'i', 'n'), ('i', 'n', 'e'), ('n', 'e', 's'), ('e', 's', ','), ('s', ',', ' '), (',', ' ', 'd'), (' ', 'd', 'e'), ('d', 'e', ' '), ('e', ' ', 'l'), (' ', 'l', 'a'), ('l', 'a', ' '), ('a', ' ', 'p'), (' ', 'p', 'r'), ('p', 'r', 'é'), ('r', 'é', 'd'), ('é', 'd', 'i'), ('d', 'i', 'c'), ('i', 'c', 't'), ('c', 't', 'i'), ('t', 'i', 'o'), ('i', 'o', 'n'), ('o', 'n', ' '), ('n', ' ', 'd'), (' ', 'd', 'e'), ('d', 'e', ' '), ('e', ' ', 't'), (' ', 't', 'e'), ('t', 'e', 'n'), ('e', 'n', 'd'), ('n', 'd', 'a'), ('d', 'a', 'n'), ('a', 'n', 'c'), ('n', 'c', 'e'), ('c', 'e', 's'), ('e', 's', ' '), ('s', ' ', 'f'), (' ', 'f', 'i'), ('f', 'i', 'n'), ('i', 'n', 'a'), ('n', 'a', 'n'), ('a', 'n', 'c'), ('n', 'c', 'i'), ('c', 'i', 'è'), ('i', 'è', 'r'), ('è', 'r', 'e'), ('r', 'e', 's'), ('e', 's', ' '), ('s', ' ', 'à'), (' ', 'à', ' '), ('à', ' ', 'l'), (' ', 'l', 'a'), ('l', 'a', ' '), ('a', ' ', 'r'), (' ', 'r', 'e'), ('r', 'e', 'c'), ('e', 'c', 'o'), ('c', 'o', 'm'), ('o', 'm', 'm'), ('m', 'm', 'a'), ('m', 'a', 'n'), ('a', 'n', 'd'), ('n', 'd', 'a'), ('d', 'a', 't'), ('a', 't', 'i'), ('t', 'i', 'o'), ('i', 'o', 'n'), ('o', 'n', ' '), ('n', ' ', 'd'), (' ', 'd', 'e'), ('d', 'e', ' '), ('e', ' ', 'p'), (' ', 'p', 'r'), ('p', 'r', 'o'), ('r', 'o', 'd'), ('o', 'd', 'u'), ('d', 'u', 'i'), ('u', 'i', 't'), ('i', 't', 's'), ('t', 's', ' '), ('s', ' ', 'e'), (' ', 'e', 'n'), ('e', 'n', ' '), ('n', ' ', 'l'), (' ', 'l', 'i'), ('l', 'i', 'g'), ('i', 'g', 'n'), ('g', 'n', 'e'), ('n', 'e', '.'), ('e', '.', ' '), ('.', ' ', 'L'), (' ', 'L', 'e'), ('L', 'e', 's'), ('e', 's', ' '), ('s', ' ', 'a'), (' ', 'a', 'l'), ('a', 'l', 'g'), ('l', 'g', 'o'), ('g', 'o', 'r'), ('o', 'r', 'i'), ('r', 'i', 't'), ('i', 't', 'h'), ('t', 'h', 'm'), ('h', 'm', 'e'), ('m', 'e', 's'), ('e', 's', ' '), ('s', ' ', 'd'), (' ', 'd', \"'\"), ('d', \"'\", 'a'), (\"'\", 'a', 'p'), ('a', 'p', 'p'), ('p', 'p', 'r'), ('p', 'r', 'e'), ('r', 'e', 'n'), ('e', 'n', 't'), ('n', 't', 'i'), ('t', 'i', 's'), ('i', 's', 's'), ('s', 's', 'a'), ('s', 'a', 'g'), ('a', 'g', 'e'), ('g', 'e', ' '), ('e', ' ', 'a'), (' ', 'a', 'u'), ('a', 'u', 't'), ('u', 't', 'o'), ('t', 'o', 'm'), ('o', 'm', 'a'), ('m', 'a', 't'), ('a', 't', 'i'), ('t', 'i', 'q'), ('i', 'q', 'u'), ('q', 'u', 'e'), ('u', 'e', ' '), ('e', ' ', 's'), (' ', 's', 'o'), ('s', 'o', 'n'), ('o', 'n', 't'), ('n', 't', ' '), ('t', ' ', 'a'), (' ', 'a', 'l'), ('a', 'l', 'i'), ('l', 'i', 'm'), ('i', 'm', 'e'), ('m', 'e', 'n'), ('e', 'n', 't'), ('n', 't', 'é'), ('t', 'é', 's'), ('é', 's', ' '), ('s', ' ', 'p'), (' ', 'p', 'a'), ('p', 'a', 'r'), ('a', 'r', ' '), ('r', ' ', 'd'), (' ', 'd', 'e'), ('d', 'e', 's'), ('e', 's', ' '), ('s', ' ', 'd'), (' ', 'd', 'o'), ('d', 'o', 'n'), ('o', 'n', 'n'), ('n', 'n', 'é'), ('n', 'é', 'e'), ('é', 'e', 's'), ('e', 's', ','), ('s', ',', ' '), (',', ' ', 'e'), (' ', 'e', 't'), ('e', 't', ' '), ('t', ' ', 'p'), (' ', 'p', 'l'), ('p', 'l', 'u'), ('l', 'u', 's'), ('u', 's', ' '), ('s', ' ', 'l'), (' ', 'l', 'e'), ('l', 'e', 's'), ('e', 's', ' '), ('s', ' ', 'd'), (' ', 'd', 'o'), ('d', 'o', 'n'), ('o', 'n', 'n'), ('n', 'n', 'é'), ('n', 'é', 'e'), ('é', 'e', 's'), ('e', 's', ' '), ('s', ' ', 's'), (' ', 's', 'o'), ('s', 'o', 'n'), ('o', 'n', 't'), ('n', 't', ' '), ('t', ' ', 'r'), (' ', 'r', 'i'), ('r', 'i', 'c'), ('i', 'c', 'h'), ('c', 'h', 'e'), ('h', 'e', 's'), ('e', 's', ' '), ('s', ' ', 'e'), (' ', 'e', 't'), ('e', 't', ' '), ('t', ' ', 'p'), (' ', 'p', 'e'), ('p', 'e', 'r'), ('e', 'r', 't'), ('r', 't', 'i'), ('t', 'i', 'n'), ('i', 'n', 'e'), ('n', 'e', 'n'), ('e', 'n', 't'), ('n', 't', 'e'), ('t', 'e', 's'), ('e', 's', ','), ('s', ',', ' '), (',', ' ', 'p'), (' ', 'p', 'l'), ('p', 'l', 'u'), ('l', 'u', 's'), ('u', 's', ' '), ('s', ' ', 'l'), (' ', 'l', 'e'), ('l', 'e', 's'), ('e', 's', ' '), ('s', ' ', 'm'), (' ', 'm', 'o'), ('m', 'o', 'd'), ('o', 'd', 'è'), ('d', 'è', 'l'), ('è', 'l', 'e'), ('l', 'e', 's'), ('e', 's', ' '), ('s', ' ', 'd'), (' ', 'd', \"'\"), ('d', \"'\", 'a'), (\"'\", 'a', 'p'), ('a', 'p', 'p'), ('p', 'p', 'r'), ('p', 'r', 'e'), ('r', 'e', 'n'), ('e', 'n', 't'), ('n', 't', 'i'), ('t', 'i', 's'), ('i', 's', 's'), ('s', 's', 'a'), ('s', 'a', 'g'), ('a', 'g', 'e'), ('g', 'e', ' '), ('e', ' ', 'a'), (' ', 'a', 'u'), ('a', 'u', 't'), ('u', 't', 'o'), ('t', 'o', 'm'), ('o', 'm', 'a'), ('m', 'a', 't'), ('a', 't', 'i'), ('t', 'i', 'q'), ('i', 'q', 'u'), ('q', 'u', 'e'), ('u', 'e', ' '), ('e', ' ', 's'), (' ', 's', 'o'), ('s', 'o', 'n'), ('o', 'n', 't'), ('n', 't', ' '), ('t', ' ', 'p'), (' ', 'p', 'e'), ('p', 'e', 'r'), ('e', 'r', 'f'), ('r', 'f', 'o'), ('f', 'o', 'r'), ('o', 'r', 'm'), ('r', 'm', 'a'), ('m', 'a', 'n'), ('a', 'n', 't'), ('n', 't', 's'), ('t', 's', '.')]\n",
      "Word Frequency Distribution: {\"L'apprentissage\": 2, 'automatique': 5, 'est': 1, \"l'une\": 1, 'des': 6, 'branches': 1, 'les': 3, 'plus': 3, 'importantes': 1, 'de': 10, \"l'intelligence\": 1, 'artificielle': 1, '.': 6, 'Il': 1, 'repose': 1, 'sur': 2, 'algorithmes': 2, 'qui': 1, 'permettent': 1, 'aux': 1, 'ordinateurs': 1, \"d'apprendre\": 1, 'à': 2, 'partir': 1, 'données': 4, 'Les': 2, 'systèmes': 1, \"d'apprentissage\": 3, 'sont': 5, 'capables': 1, \"d'analyser\": 1, 'ensembles': 1, ',': 7, 'détecter': 1, 'schémas': 1, 'et': 4, 'prendre': 1, 'décisions': 1, 'basées': 1, 'ces': 1, 'modèles': 2, 'comprend': 1, 'diverses': 1, 'techniques': 2, 'telles': 1, 'que': 1, 'la': 5, 'régression': 1, 'classification': 1, 'le': 1, 'clustering': 1, 'reconnaissance': 1, 'motifs': 1, 'Ces': 1, 'utilisées': 1, 'dans': 1, 'une': 1, 'variété': 1, 'domaines': 1, 'prédiction': 1, 'tendances': 1, 'financières': 1, 'recommandation': 1, 'produits': 1, 'en': 1, 'ligne': 1, 'alimentés': 1, 'par': 1, 'riches': 1, 'pertinentes': 1, 'performants': 1}\n",
      "\n",
      "\n",
      "Document 6 Information:\n",
      "Content: L'IA continue de progresser, avec des développements passionnants à venir, tels que l'IA générale artificielle (AGI) qui pourrait rivaliser avec l'intelligence humaine.\n",
      "Word n-grams: [(\"L'IA\", 'continue', 'de'), ('continue', 'de', 'progresser'), ('de', 'progresser', ','), ('progresser', ',', 'avec'), (',', 'avec', 'des'), ('avec', 'des', 'développements'), ('des', 'développements', 'passionnants'), ('développements', 'passionnants', 'à'), ('passionnants', 'à', 'venir'), ('à', 'venir', ','), ('venir', ',', 'tels'), (',', 'tels', 'que'), ('tels', 'que', \"l'IA\"), ('que', \"l'IA\", 'générale'), (\"l'IA\", 'générale', 'artificielle'), ('générale', 'artificielle', '('), ('artificielle', '(', 'AGI'), ('(', 'AGI', ')'), ('AGI', ')', 'qui'), (')', 'qui', 'pourrait'), ('qui', 'pourrait', 'rivaliser'), ('pourrait', 'rivaliser', 'avec'), ('rivaliser', 'avec', \"l'intelligence\"), ('avec', \"l'intelligence\", 'humaine'), (\"l'intelligence\", 'humaine', '.')]\n",
      "Character n-grams: [('L', \"'\", 'I'), (\"'\", 'I', 'A'), ('I', 'A', ' '), ('A', ' ', 'c'), (' ', 'c', 'o'), ('c', 'o', 'n'), ('o', 'n', 't'), ('n', 't', 'i'), ('t', 'i', 'n'), ('i', 'n', 'u'), ('n', 'u', 'e'), ('u', 'e', ' '), ('e', ' ', 'd'), (' ', 'd', 'e'), ('d', 'e', ' '), ('e', ' ', 'p'), (' ', 'p', 'r'), ('p', 'r', 'o'), ('r', 'o', 'g'), ('o', 'g', 'r'), ('g', 'r', 'e'), ('r', 'e', 's'), ('e', 's', 's'), ('s', 's', 'e'), ('s', 'e', 'r'), ('e', 'r', ','), ('r', ',', ' '), (',', ' ', 'a'), (' ', 'a', 'v'), ('a', 'v', 'e'), ('v', 'e', 'c'), ('e', 'c', ' '), ('c', ' ', 'd'), (' ', 'd', 'e'), ('d', 'e', 's'), ('e', 's', ' '), ('s', ' ', 'd'), (' ', 'd', 'é'), ('d', 'é', 'v'), ('é', 'v', 'e'), ('v', 'e', 'l'), ('e', 'l', 'o'), ('l', 'o', 'p'), ('o', 'p', 'p'), ('p', 'p', 'e'), ('p', 'e', 'm'), ('e', 'm', 'e'), ('m', 'e', 'n'), ('e', 'n', 't'), ('n', 't', 's'), ('t', 's', ' '), ('s', ' ', 'p'), (' ', 'p', 'a'), ('p', 'a', 's'), ('a', 's', 's'), ('s', 's', 'i'), ('s', 'i', 'o'), ('i', 'o', 'n'), ('o', 'n', 'n'), ('n', 'n', 'a'), ('n', 'a', 'n'), ('a', 'n', 't'), ('n', 't', 's'), ('t', 's', ' '), ('s', ' ', 'à'), (' ', 'à', ' '), ('à', ' ', 'v'), (' ', 'v', 'e'), ('v', 'e', 'n'), ('e', 'n', 'i'), ('n', 'i', 'r'), ('i', 'r', ','), ('r', ',', ' '), (',', ' ', 't'), (' ', 't', 'e'), ('t', 'e', 'l'), ('e', 'l', 's'), ('l', 's', ' '), ('s', ' ', 'q'), (' ', 'q', 'u'), ('q', 'u', 'e'), ('u', 'e', ' '), ('e', ' ', 'l'), (' ', 'l', \"'\"), ('l', \"'\", 'I'), (\"'\", 'I', 'A'), ('I', 'A', ' '), ('A', ' ', 'g'), (' ', 'g', 'é'), ('g', 'é', 'n'), ('é', 'n', 'é'), ('n', 'é', 'r'), ('é', 'r', 'a'), ('r', 'a', 'l'), ('a', 'l', 'e'), ('l', 'e', ' '), ('e', ' ', 'a'), (' ', 'a', 'r'), ('a', 'r', 't'), ('r', 't', 'i'), ('t', 'i', 'f'), ('i', 'f', 'i'), ('f', 'i', 'c'), ('i', 'c', 'i'), ('c', 'i', 'e'), ('i', 'e', 'l'), ('e', 'l', 'l'), ('l', 'l', 'e'), ('l', 'e', ' '), ('e', ' ', '('), (' ', '(', 'A'), ('(', 'A', 'G'), ('A', 'G', 'I'), ('G', 'I', ')'), ('I', ')', ' '), (')', ' ', 'q'), (' ', 'q', 'u'), ('q', 'u', 'i'), ('u', 'i', ' '), ('i', ' ', 'p'), (' ', 'p', 'o'), ('p', 'o', 'u'), ('o', 'u', 'r'), ('u', 'r', 'r'), ('r', 'r', 'a'), ('r', 'a', 'i'), ('a', 'i', 't'), ('i', 't', ' '), ('t', ' ', 'r'), (' ', 'r', 'i'), ('r', 'i', 'v'), ('i', 'v', 'a'), ('v', 'a', 'l'), ('a', 'l', 'i'), ('l', 'i', 's'), ('i', 's', 'e'), ('s', 'e', 'r'), ('e', 'r', ' '), ('r', ' ', 'a'), (' ', 'a', 'v'), ('a', 'v', 'e'), ('v', 'e', 'c'), ('e', 'c', ' '), ('c', ' ', 'l'), (' ', 'l', \"'\"), ('l', \"'\", 'i'), (\"'\", 'i', 'n'), ('i', 'n', 't'), ('n', 't', 'e'), ('t', 'e', 'l'), ('e', 'l', 'l'), ('l', 'l', 'i'), ('l', 'i', 'g'), ('i', 'g', 'e'), ('g', 'e', 'n'), ('e', 'n', 'c'), ('n', 'c', 'e'), ('c', 'e', ' '), ('e', ' ', 'h'), (' ', 'h', 'u'), ('h', 'u', 'm'), ('u', 'm', 'a'), ('m', 'a', 'i'), ('a', 'i', 'n'), ('i', 'n', 'e'), ('n', 'e', '.')]\n",
      "Word Frequency Distribution: {\"L'IA\": 1, 'continue': 1, 'de': 1, 'progresser': 1, ',': 2, 'avec': 2, 'des': 1, 'développements': 1, 'passionnants': 1, 'à': 1, 'venir': 1, 'tels': 1, 'que': 1, \"l'IA\": 1, 'générale': 1, 'artificielle': 1, '(': 1, 'AGI': 1, ')': 1, 'qui': 1, 'pourrait': 1, 'rivaliser': 1, \"l'intelligence\": 1, 'humaine': 1, '.': 1}\n",
      "\n",
      "\n",
      "Document 7 Information:\n",
      "Content: TensorFlow et PyTorch sont des bibliothèques populaires utilisées par les chercheurs et les développeurs pour construire des modèles d'IA.\n",
      "Word n-grams: [('TensorFlow', 'et', 'PyTorch'), ('et', 'PyTorch', 'sont'), ('PyTorch', 'sont', 'des'), ('sont', 'des', 'bibliothèques'), ('des', 'bibliothèques', 'populaires'), ('bibliothèques', 'populaires', 'utilisées'), ('populaires', 'utilisées', 'par'), ('utilisées', 'par', 'les'), ('par', 'les', 'chercheurs'), ('les', 'chercheurs', 'et'), ('chercheurs', 'et', 'les'), ('et', 'les', 'développeurs'), ('les', 'développeurs', 'pour'), ('développeurs', 'pour', 'construire'), ('pour', 'construire', 'des'), ('construire', 'des', 'modèles'), ('des', 'modèles', \"d'IA\"), ('modèles', \"d'IA\", '.')]\n",
      "Character n-grams: [('T', 'e', 'n'), ('e', 'n', 's'), ('n', 's', 'o'), ('s', 'o', 'r'), ('o', 'r', 'F'), ('r', 'F', 'l'), ('F', 'l', 'o'), ('l', 'o', 'w'), ('o', 'w', ' '), ('w', ' ', 'e'), (' ', 'e', 't'), ('e', 't', ' '), ('t', ' ', 'P'), (' ', 'P', 'y'), ('P', 'y', 'T'), ('y', 'T', 'o'), ('T', 'o', 'r'), ('o', 'r', 'c'), ('r', 'c', 'h'), ('c', 'h', ' '), ('h', ' ', 's'), (' ', 's', 'o'), ('s', 'o', 'n'), ('o', 'n', 't'), ('n', 't', ' '), ('t', ' ', 'd'), (' ', 'd', 'e'), ('d', 'e', 's'), ('e', 's', ' '), ('s', ' ', 'b'), (' ', 'b', 'i'), ('b', 'i', 'b'), ('i', 'b', 'l'), ('b', 'l', 'i'), ('l', 'i', 'o'), ('i', 'o', 't'), ('o', 't', 'h'), ('t', 'h', 'è'), ('h', 'è', 'q'), ('è', 'q', 'u'), ('q', 'u', 'e'), ('u', 'e', 's'), ('e', 's', ' '), ('s', ' ', 'p'), (' ', 'p', 'o'), ('p', 'o', 'p'), ('o', 'p', 'u'), ('p', 'u', 'l'), ('u', 'l', 'a'), ('l', 'a', 'i'), ('a', 'i', 'r'), ('i', 'r', 'e'), ('r', 'e', 's'), ('e', 's', ' '), ('s', ' ', 'u'), (' ', 'u', 't'), ('u', 't', 'i'), ('t', 'i', 'l'), ('i', 'l', 'i'), ('l', 'i', 's'), ('i', 's', 'é'), ('s', 'é', 'e'), ('é', 'e', 's'), ('e', 's', ' '), ('s', ' ', 'p'), (' ', 'p', 'a'), ('p', 'a', 'r'), ('a', 'r', ' '), ('r', ' ', 'l'), (' ', 'l', 'e'), ('l', 'e', 's'), ('e', 's', ' '), ('s', ' ', 'c'), (' ', 'c', 'h'), ('c', 'h', 'e'), ('h', 'e', 'r'), ('e', 'r', 'c'), ('r', 'c', 'h'), ('c', 'h', 'e'), ('h', 'e', 'u'), ('e', 'u', 'r'), ('u', 'r', 's'), ('r', 's', ' '), ('s', ' ', 'e'), (' ', 'e', 't'), ('e', 't', ' '), ('t', ' ', 'l'), (' ', 'l', 'e'), ('l', 'e', 's'), ('e', 's', ' '), ('s', ' ', 'd'), (' ', 'd', 'é'), ('d', 'é', 'v'), ('é', 'v', 'e'), ('v', 'e', 'l'), ('e', 'l', 'o'), ('l', 'o', 'p'), ('o', 'p', 'p'), ('p', 'p', 'e'), ('p', 'e', 'u'), ('e', 'u', 'r'), ('u', 'r', 's'), ('r', 's', ' '), ('s', ' ', 'p'), (' ', 'p', 'o'), ('p', 'o', 'u'), ('o', 'u', 'r'), ('u', 'r', ' '), ('r', ' ', 'c'), (' ', 'c', 'o'), ('c', 'o', 'n'), ('o', 'n', 's'), ('n', 's', 't'), ('s', 't', 'r'), ('t', 'r', 'u'), ('r', 'u', 'i'), ('u', 'i', 'r'), ('i', 'r', 'e'), ('r', 'e', ' '), ('e', ' ', 'd'), (' ', 'd', 'e'), ('d', 'e', 's'), ('e', 's', ' '), ('s', ' ', 'm'), (' ', 'm', 'o'), ('m', 'o', 'd'), ('o', 'd', 'è'), ('d', 'è', 'l'), ('è', 'l', 'e'), ('l', 'e', 's'), ('e', 's', ' '), ('s', ' ', 'd'), (' ', 'd', \"'\"), ('d', \"'\", 'I'), (\"'\", 'I', 'A'), ('I', 'A', '.')]\n",
      "Word Frequency Distribution: {'TensorFlow': 1, 'et': 2, 'PyTorch': 1, 'sont': 1, 'des': 2, 'bibliothèques': 1, 'populaires': 1, 'utilisées': 1, 'par': 1, 'les': 2, 'chercheurs': 1, 'développeurs': 1, 'pour': 1, 'construire': 1, 'modèles': 1, \"d'IA\": 1, '.': 1}\n",
      "\n",
      "\n",
      "Document 8 Information:\n",
      "Content: Alan Turing et John McCarthy sont des figures clés de l'histoire de l'IA. Leurs travaux ont jeté les bases de ce que nous connaissons aujourd'hui en matière d'intelligence artificielle.\n",
      "Word n-grams: [('Alan', 'Turing', 'et'), ('Turing', 'et', 'John'), ('et', 'John', 'McCarthy'), ('John', 'McCarthy', 'sont'), ('McCarthy', 'sont', 'des'), ('sont', 'des', 'figures'), ('des', 'figures', 'clés'), ('figures', 'clés', 'de'), ('clés', 'de', \"l'histoire\"), ('de', \"l'histoire\", 'de'), (\"l'histoire\", 'de', \"l'IA\"), ('de', \"l'IA\", '.'), (\"l'IA\", '.', 'Leurs'), ('.', 'Leurs', 'travaux'), ('Leurs', 'travaux', 'ont'), ('travaux', 'ont', 'jeté'), ('ont', 'jeté', 'les'), ('jeté', 'les', 'bases'), ('les', 'bases', 'de'), ('bases', 'de', 'ce'), ('de', 'ce', 'que'), ('ce', 'que', 'nous'), ('que', 'nous', 'connaissons'), ('nous', 'connaissons', \"aujourd'hui\"), ('connaissons', \"aujourd'hui\", 'en'), (\"aujourd'hui\", 'en', 'matière'), ('en', 'matière', \"d'intelligence\"), ('matière', \"d'intelligence\", 'artificielle'), (\"d'intelligence\", 'artificielle', '.')]\n",
      "Character n-grams: [('A', 'l', 'a'), ('l', 'a', 'n'), ('a', 'n', ' '), ('n', ' ', 'T'), (' ', 'T', 'u'), ('T', 'u', 'r'), ('u', 'r', 'i'), ('r', 'i', 'n'), ('i', 'n', 'g'), ('n', 'g', ' '), ('g', ' ', 'e'), (' ', 'e', 't'), ('e', 't', ' '), ('t', ' ', 'J'), (' ', 'J', 'o'), ('J', 'o', 'h'), ('o', 'h', 'n'), ('h', 'n', ' '), ('n', ' ', 'M'), (' ', 'M', 'c'), ('M', 'c', 'C'), ('c', 'C', 'a'), ('C', 'a', 'r'), ('a', 'r', 't'), ('r', 't', 'h'), ('t', 'h', 'y'), ('h', 'y', ' '), ('y', ' ', 's'), (' ', 's', 'o'), ('s', 'o', 'n'), ('o', 'n', 't'), ('n', 't', ' '), ('t', ' ', 'd'), (' ', 'd', 'e'), ('d', 'e', 's'), ('e', 's', ' '), ('s', ' ', 'f'), (' ', 'f', 'i'), ('f', 'i', 'g'), ('i', 'g', 'u'), ('g', 'u', 'r'), ('u', 'r', 'e'), ('r', 'e', 's'), ('e', 's', ' '), ('s', ' ', 'c'), (' ', 'c', 'l'), ('c', 'l', 'é'), ('l', 'é', 's'), ('é', 's', ' '), ('s', ' ', 'd'), (' ', 'd', 'e'), ('d', 'e', ' '), ('e', ' ', 'l'), (' ', 'l', \"'\"), ('l', \"'\", 'h'), (\"'\", 'h', 'i'), ('h', 'i', 's'), ('i', 's', 't'), ('s', 't', 'o'), ('t', 'o', 'i'), ('o', 'i', 'r'), ('i', 'r', 'e'), ('r', 'e', ' '), ('e', ' ', 'd'), (' ', 'd', 'e'), ('d', 'e', ' '), ('e', ' ', 'l'), (' ', 'l', \"'\"), ('l', \"'\", 'I'), (\"'\", 'I', 'A'), ('I', 'A', '.'), ('A', '.', ' '), ('.', ' ', 'L'), (' ', 'L', 'e'), ('L', 'e', 'u'), ('e', 'u', 'r'), ('u', 'r', 's'), ('r', 's', ' '), ('s', ' ', 't'), (' ', 't', 'r'), ('t', 'r', 'a'), ('r', 'a', 'v'), ('a', 'v', 'a'), ('v', 'a', 'u'), ('a', 'u', 'x'), ('u', 'x', ' '), ('x', ' ', 'o'), (' ', 'o', 'n'), ('o', 'n', 't'), ('n', 't', ' '), ('t', ' ', 'j'), (' ', 'j', 'e'), ('j', 'e', 't'), ('e', 't', 'é'), ('t', 'é', ' '), ('é', ' ', 'l'), (' ', 'l', 'e'), ('l', 'e', 's'), ('e', 's', ' '), ('s', ' ', 'b'), (' ', 'b', 'a'), ('b', 'a', 's'), ('a', 's', 'e'), ('s', 'e', 's'), ('e', 's', ' '), ('s', ' ', 'd'), (' ', 'd', 'e'), ('d', 'e', ' '), ('e', ' ', 'c'), (' ', 'c', 'e'), ('c', 'e', ' '), ('e', ' ', 'q'), (' ', 'q', 'u'), ('q', 'u', 'e'), ('u', 'e', ' '), ('e', ' ', 'n'), (' ', 'n', 'o'), ('n', 'o', 'u'), ('o', 'u', 's'), ('u', 's', ' '), ('s', ' ', 'c'), (' ', 'c', 'o'), ('c', 'o', 'n'), ('o', 'n', 'n'), ('n', 'n', 'a'), ('n', 'a', 'i'), ('a', 'i', 's'), ('i', 's', 's'), ('s', 's', 'o'), ('s', 'o', 'n'), ('o', 'n', 's'), ('n', 's', ' '), ('s', ' ', 'a'), (' ', 'a', 'u'), ('a', 'u', 'j'), ('u', 'j', 'o'), ('j', 'o', 'u'), ('o', 'u', 'r'), ('u', 'r', 'd'), ('r', 'd', \"'\"), ('d', \"'\", 'h'), (\"'\", 'h', 'u'), ('h', 'u', 'i'), ('u', 'i', ' '), ('i', ' ', 'e'), (' ', 'e', 'n'), ('e', 'n', ' '), ('n', ' ', 'm'), (' ', 'm', 'a'), ('m', 'a', 't'), ('a', 't', 'i'), ('t', 'i', 'è'), ('i', 'è', 'r'), ('è', 'r', 'e'), ('r', 'e', ' '), ('e', ' ', 'd'), (' ', 'd', \"'\"), ('d', \"'\", 'i'), (\"'\", 'i', 'n'), ('i', 'n', 't'), ('n', 't', 'e'), ('t', 'e', 'l'), ('e', 'l', 'l'), ('l', 'l', 'i'), ('l', 'i', 'g'), ('i', 'g', 'e'), ('g', 'e', 'n'), ('e', 'n', 'c'), ('n', 'c', 'e'), ('c', 'e', ' '), ('e', ' ', 'a'), (' ', 'a', 'r'), ('a', 'r', 't'), ('r', 't', 'i'), ('t', 'i', 'f'), ('i', 'f', 'i'), ('f', 'i', 'c'), ('i', 'c', 'i'), ('c', 'i', 'e'), ('i', 'e', 'l'), ('e', 'l', 'l'), ('l', 'l', 'e'), ('l', 'e', '.')]\n",
      "Word Frequency Distribution: {'Alan': 1, 'Turing': 1, 'et': 1, 'John': 1, 'McCarthy': 1, 'sont': 1, 'des': 1, 'figures': 1, 'clés': 1, 'de': 3, \"l'histoire\": 1, \"l'IA\": 1, '.': 2, 'Leurs': 1, 'travaux': 1, 'ont': 1, 'jeté': 1, 'les': 1, 'bases': 1, 'ce': 1, 'que': 1, 'nous': 1, 'connaissons': 1, \"aujourd'hui\": 1, 'en': 1, 'matière': 1, \"d'intelligence\": 1, 'artificielle': 1}\n",
      "\n",
      "\n",
      "Document 9 Information:\n",
      "Content: L'intelligence artificielle (IA) est un domaine passionnant de l'informatique qui vise à créer des systèmes capables d'effectuer des tâches qui nécessitent généralement l'intelligence humaine. Ces systèmes sont conçus pour imiter certaines capacités humaines, telles que la vision, la compréhension du langage naturel, l'apprentissage et la résolution de problèmes complexes. L'IA englobe un large éventail de domaines, de la robotique aux algorithmes d'apprentissage automatique.\n",
      "\n",
      "Les chercheurs en IA travaillent sur le développement de modèles d'IA capables de prendre des décisions éclairées, de résoudre des problèmes complexes et d'interagir de manière plus naturelle avec les humains. Ils utilisent des techniques d'apprentissage automatique, de traitement du langage naturel, de vision par ordinateur et d'apprentissage profond pour créer ces systèmes intelligents.\n",
      "Word n-grams: [(\"L'intelligence\", 'artificielle', '('), ('artificielle', '(', 'IA'), ('(', 'IA', ')'), ('IA', ')', 'est'), (')', 'est', 'un'), ('est', 'un', 'domaine'), ('un', 'domaine', 'passionnant'), ('domaine', 'passionnant', 'de'), ('passionnant', 'de', \"l'informatique\"), ('de', \"l'informatique\", 'qui'), (\"l'informatique\", 'qui', 'vise'), ('qui', 'vise', 'à'), ('vise', 'à', 'créer'), ('à', 'créer', 'des'), ('créer', 'des', 'systèmes'), ('des', 'systèmes', 'capables'), ('systèmes', 'capables', \"d'effectuer\"), ('capables', \"d'effectuer\", 'des'), (\"d'effectuer\", 'des', 'tâches'), ('des', 'tâches', 'qui'), ('tâches', 'qui', 'nécessitent'), ('qui', 'nécessitent', 'généralement'), ('nécessitent', 'généralement', \"l'intelligence\"), ('généralement', \"l'intelligence\", 'humaine'), (\"l'intelligence\", 'humaine', '.'), ('humaine', '.', 'Ces'), ('.', 'Ces', 'systèmes'), ('Ces', 'systèmes', 'sont'), ('systèmes', 'sont', 'conçus'), ('sont', 'conçus', 'pour'), ('conçus', 'pour', 'imiter'), ('pour', 'imiter', 'certaines'), ('imiter', 'certaines', 'capacités'), ('certaines', 'capacités', 'humaines'), ('capacités', 'humaines', ','), ('humaines', ',', 'telles'), (',', 'telles', 'que'), ('telles', 'que', 'la'), ('que', 'la', 'vision'), ('la', 'vision', ','), ('vision', ',', 'la'), (',', 'la', 'compréhension'), ('la', 'compréhension', 'du'), ('compréhension', 'du', 'langage'), ('du', 'langage', 'naturel'), ('langage', 'naturel', ','), ('naturel', ',', \"l'apprentissage\"), (',', \"l'apprentissage\", 'et'), (\"l'apprentissage\", 'et', 'la'), ('et', 'la', 'résolution'), ('la', 'résolution', 'de'), ('résolution', 'de', 'problèmes'), ('de', 'problèmes', 'complexes'), ('problèmes', 'complexes', '.'), ('complexes', '.', \"L'IA\"), ('.', \"L'IA\", 'englobe'), (\"L'IA\", 'englobe', 'un'), ('englobe', 'un', 'large'), ('un', 'large', 'éventail'), ('large', 'éventail', 'de'), ('éventail', 'de', 'domaines'), ('de', 'domaines', ','), ('domaines', ',', 'de'), (',', 'de', 'la'), ('de', 'la', 'robotique'), ('la', 'robotique', 'aux'), ('robotique', 'aux', 'algorithmes'), ('aux', 'algorithmes', \"d'apprentissage\"), ('algorithmes', \"d'apprentissage\", 'automatique'), (\"d'apprentissage\", 'automatique', '.'), ('automatique', '.', 'Les'), ('.', 'Les', 'chercheurs'), ('Les', 'chercheurs', 'en'), ('chercheurs', 'en', 'IA'), ('en', 'IA', 'travaillent'), ('IA', 'travaillent', 'sur'), ('travaillent', 'sur', 'le'), ('sur', 'le', 'développement'), ('le', 'développement', 'de'), ('développement', 'de', 'modèles'), ('de', 'modèles', \"d'IA\"), ('modèles', \"d'IA\", 'capables'), (\"d'IA\", 'capables', 'de'), ('capables', 'de', 'prendre'), ('de', 'prendre', 'des'), ('prendre', 'des', 'décisions'), ('des', 'décisions', 'éclairées'), ('décisions', 'éclairées', ','), ('éclairées', ',', 'de'), (',', 'de', 'résoudre'), ('de', 'résoudre', 'des'), ('résoudre', 'des', 'problèmes'), ('des', 'problèmes', 'complexes'), ('problèmes', 'complexes', 'et'), ('complexes', 'et', \"d'interagir\"), ('et', \"d'interagir\", 'de'), (\"d'interagir\", 'de', 'manière'), ('de', 'manière', 'plus'), ('manière', 'plus', 'naturelle'), ('plus', 'naturelle', 'avec'), ('naturelle', 'avec', 'les'), ('avec', 'les', 'humains'), ('les', 'humains', '.'), ('humains', '.', 'Ils'), ('.', 'Ils', 'utilisent'), ('Ils', 'utilisent', 'des'), ('utilisent', 'des', 'techniques'), ('des', 'techniques', \"d'apprentissage\"), ('techniques', \"d'apprentissage\", 'automatique'), (\"d'apprentissage\", 'automatique', ','), ('automatique', ',', 'de'), (',', 'de', 'traitement'), ('de', 'traitement', 'du'), ('traitement', 'du', 'langage'), ('du', 'langage', 'naturel'), ('langage', 'naturel', ','), ('naturel', ',', 'de'), (',', 'de', 'vision'), ('de', 'vision', 'par'), ('vision', 'par', 'ordinateur'), ('par', 'ordinateur', 'et'), ('ordinateur', 'et', \"d'apprentissage\"), ('et', \"d'apprentissage\", 'profond'), (\"d'apprentissage\", 'profond', 'pour'), ('profond', 'pour', 'créer'), ('pour', 'créer', 'ces'), ('créer', 'ces', 'systèmes'), ('ces', 'systèmes', 'intelligents'), ('systèmes', 'intelligents', '.')]\n",
      "Character n-grams: [('L', \"'\", 'i'), (\"'\", 'i', 'n'), ('i', 'n', 't'), ('n', 't', 'e'), ('t', 'e', 'l'), ('e', 'l', 'l'), ('l', 'l', 'i'), ('l', 'i', 'g'), ('i', 'g', 'e'), ('g', 'e', 'n'), ('e', 'n', 'c'), ('n', 'c', 'e'), ('c', 'e', ' '), ('e', ' ', 'a'), (' ', 'a', 'r'), ('a', 'r', 't'), ('r', 't', 'i'), ('t', 'i', 'f'), ('i', 'f', 'i'), ('f', 'i', 'c'), ('i', 'c', 'i'), ('c', 'i', 'e'), ('i', 'e', 'l'), ('e', 'l', 'l'), ('l', 'l', 'e'), ('l', 'e', ' '), ('e', ' ', '('), (' ', '(', 'I'), ('(', 'I', 'A'), ('I', 'A', ')'), ('A', ')', ' '), (')', ' ', 'e'), (' ', 'e', 's'), ('e', 's', 't'), ('s', 't', ' '), ('t', ' ', 'u'), (' ', 'u', 'n'), ('u', 'n', ' '), ('n', ' ', 'd'), (' ', 'd', 'o'), ('d', 'o', 'm'), ('o', 'm', 'a'), ('m', 'a', 'i'), ('a', 'i', 'n'), ('i', 'n', 'e'), ('n', 'e', ' '), ('e', ' ', 'p'), (' ', 'p', 'a'), ('p', 'a', 's'), ('a', 's', 's'), ('s', 's', 'i'), ('s', 'i', 'o'), ('i', 'o', 'n'), ('o', 'n', 'n'), ('n', 'n', 'a'), ('n', 'a', 'n'), ('a', 'n', 't'), ('n', 't', ' '), ('t', ' ', 'd'), (' ', 'd', 'e'), ('d', 'e', ' '), ('e', ' ', 'l'), (' ', 'l', \"'\"), ('l', \"'\", 'i'), (\"'\", 'i', 'n'), ('i', 'n', 'f'), ('n', 'f', 'o'), ('f', 'o', 'r'), ('o', 'r', 'm'), ('r', 'm', 'a'), ('m', 'a', 't'), ('a', 't', 'i'), ('t', 'i', 'q'), ('i', 'q', 'u'), ('q', 'u', 'e'), ('u', 'e', ' '), ('e', ' ', 'q'), (' ', 'q', 'u'), ('q', 'u', 'i'), ('u', 'i', ' '), ('i', ' ', 'v'), (' ', 'v', 'i'), ('v', 'i', 's'), ('i', 's', 'e'), ('s', 'e', ' '), ('e', ' ', 'à'), (' ', 'à', ' '), ('à', ' ', 'c'), (' ', 'c', 'r'), ('c', 'r', 'é'), ('r', 'é', 'e'), ('é', 'e', 'r'), ('e', 'r', ' '), ('r', ' ', 'd'), (' ', 'd', 'e'), ('d', 'e', 's'), ('e', 's', ' '), ('s', ' ', 's'), (' ', 's', 'y'), ('s', 'y', 's'), ('y', 's', 't'), ('s', 't', 'è'), ('t', 'è', 'm'), ('è', 'm', 'e'), ('m', 'e', 's'), ('e', 's', ' '), ('s', ' ', 'c'), (' ', 'c', 'a'), ('c', 'a', 'p'), ('a', 'p', 'a'), ('p', 'a', 'b'), ('a', 'b', 'l'), ('b', 'l', 'e'), ('l', 'e', 's'), ('e', 's', ' '), ('s', ' ', 'd'), (' ', 'd', \"'\"), ('d', \"'\", 'e'), (\"'\", 'e', 'f'), ('e', 'f', 'f'), ('f', 'f', 'e'), ('f', 'e', 'c'), ('e', 'c', 't'), ('c', 't', 'u'), ('t', 'u', 'e'), ('u', 'e', 'r'), ('e', 'r', ' '), ('r', ' ', 'd'), (' ', 'd', 'e'), ('d', 'e', 's'), ('e', 's', ' '), ('s', ' ', 't'), (' ', 't', 'â'), ('t', 'â', 'c'), ('â', 'c', 'h'), ('c', 'h', 'e'), ('h', 'e', 's'), ('e', 's', ' '), ('s', ' ', 'q'), (' ', 'q', 'u'), ('q', 'u', 'i'), ('u', 'i', ' '), ('i', ' ', 'n'), (' ', 'n', 'é'), ('n', 'é', 'c'), ('é', 'c', 'e'), ('c', 'e', 's'), ('e', 's', 's'), ('s', 's', 'i'), ('s', 'i', 't'), ('i', 't', 'e'), ('t', 'e', 'n'), ('e', 'n', 't'), ('n', 't', ' '), ('t', ' ', 'g'), (' ', 'g', 'é'), ('g', 'é', 'n'), ('é', 'n', 'é'), ('n', 'é', 'r'), ('é', 'r', 'a'), ('r', 'a', 'l'), ('a', 'l', 'e'), ('l', 'e', 'm'), ('e', 'm', 'e'), ('m', 'e', 'n'), ('e', 'n', 't'), ('n', 't', ' '), ('t', ' ', 'l'), (' ', 'l', \"'\"), ('l', \"'\", 'i'), (\"'\", 'i', 'n'), ('i', 'n', 't'), ('n', 't', 'e'), ('t', 'e', 'l'), ('e', 'l', 'l'), ('l', 'l', 'i'), ('l', 'i', 'g'), ('i', 'g', 'e'), ('g', 'e', 'n'), ('e', 'n', 'c'), ('n', 'c', 'e'), ('c', 'e', ' '), ('e', ' ', 'h'), (' ', 'h', 'u'), ('h', 'u', 'm'), ('u', 'm', 'a'), ('m', 'a', 'i'), ('a', 'i', 'n'), ('i', 'n', 'e'), ('n', 'e', '.'), ('e', '.', ' '), ('.', ' ', 'C'), (' ', 'C', 'e'), ('C', 'e', 's'), ('e', 's', ' '), ('s', ' ', 's'), (' ', 's', 'y'), ('s', 'y', 's'), ('y', 's', 't'), ('s', 't', 'è'), ('t', 'è', 'm'), ('è', 'm', 'e'), ('m', 'e', 's'), ('e', 's', ' '), ('s', ' ', 's'), (' ', 's', 'o'), ('s', 'o', 'n'), ('o', 'n', 't'), ('n', 't', ' '), ('t', ' ', 'c'), (' ', 'c', 'o'), ('c', 'o', 'n'), ('o', 'n', 'ç'), ('n', 'ç', 'u'), ('ç', 'u', 's'), ('u', 's', ' '), ('s', ' ', 'p'), (' ', 'p', 'o'), ('p', 'o', 'u'), ('o', 'u', 'r'), ('u', 'r', ' '), ('r', ' ', 'i'), (' ', 'i', 'm'), ('i', 'm', 'i'), ('m', 'i', 't'), ('i', 't', 'e'), ('t', 'e', 'r'), ('e', 'r', ' '), ('r', ' ', 'c'), (' ', 'c', 'e'), ('c', 'e', 'r'), ('e', 'r', 't'), ('r', 't', 'a'), ('t', 'a', 'i'), ('a', 'i', 'n'), ('i', 'n', 'e'), ('n', 'e', 's'), ('e', 's', ' '), ('s', ' ', 'c'), (' ', 'c', 'a'), ('c', 'a', 'p'), ('a', 'p', 'a'), ('p', 'a', 'c'), ('a', 'c', 'i'), ('c', 'i', 't'), ('i', 't', 'é'), ('t', 'é', 's'), ('é', 's', ' '), ('s', ' ', 'h'), (' ', 'h', 'u'), ('h', 'u', 'm'), ('u', 'm', 'a'), ('m', 'a', 'i'), ('a', 'i', 'n'), ('i', 'n', 'e'), ('n', 'e', 's'), ('e', 's', ','), ('s', ',', ' '), (',', ' ', 't'), (' ', 't', 'e'), ('t', 'e', 'l'), ('e', 'l', 'l'), ('l', 'l', 'e'), ('l', 'e', 's'), ('e', 's', ' '), ('s', ' ', 'q'), (' ', 'q', 'u'), ('q', 'u', 'e'), ('u', 'e', ' '), ('e', ' ', 'l'), (' ', 'l', 'a'), ('l', 'a', ' '), ('a', ' ', 'v'), (' ', 'v', 'i'), ('v', 'i', 's'), ('i', 's', 'i'), ('s', 'i', 'o'), ('i', 'o', 'n'), ('o', 'n', ','), ('n', ',', ' '), (',', ' ', 'l'), (' ', 'l', 'a'), ('l', 'a', ' '), ('a', ' ', 'c'), (' ', 'c', 'o'), ('c', 'o', 'm'), ('o', 'm', 'p'), ('m', 'p', 'r'), ('p', 'r', 'é'), ('r', 'é', 'h'), ('é', 'h', 'e'), ('h', 'e', 'n'), ('e', 'n', 's'), ('n', 's', 'i'), ('s', 'i', 'o'), ('i', 'o', 'n'), ('o', 'n', ' '), ('n', ' ', 'd'), (' ', 'd', 'u'), ('d', 'u', ' '), ('u', ' ', 'l'), (' ', 'l', 'a'), ('l', 'a', 'n'), ('a', 'n', 'g'), ('n', 'g', 'a'), ('g', 'a', 'g'), ('a', 'g', 'e'), ('g', 'e', ' '), ('e', ' ', 'n'), (' ', 'n', 'a'), ('n', 'a', 't'), ('a', 't', 'u'), ('t', 'u', 'r'), ('u', 'r', 'e'), ('r', 'e', 'l'), ('e', 'l', ','), ('l', ',', ' '), (',', ' ', 'l'), (' ', 'l', \"'\"), ('l', \"'\", 'a'), (\"'\", 'a', 'p'), ('a', 'p', 'p'), ('p', 'p', 'r'), ('p', 'r', 'e'), ('r', 'e', 'n'), ('e', 'n', 't'), ('n', 't', 'i'), ('t', 'i', 's'), ('i', 's', 's'), ('s', 's', 'a'), ('s', 'a', 'g'), ('a', 'g', 'e'), ('g', 'e', ' '), ('e', ' ', 'e'), (' ', 'e', 't'), ('e', 't', ' '), ('t', ' ', 'l'), (' ', 'l', 'a'), ('l', 'a', ' '), ('a', ' ', 'r'), (' ', 'r', 'é'), ('r', 'é', 's'), ('é', 's', 'o'), ('s', 'o', 'l'), ('o', 'l', 'u'), ('l', 'u', 't'), ('u', 't', 'i'), ('t', 'i', 'o'), ('i', 'o', 'n'), ('o', 'n', ' '), ('n', ' ', 'd'), (' ', 'd', 'e'), ('d', 'e', ' '), ('e', ' ', 'p'), (' ', 'p', 'r'), ('p', 'r', 'o'), ('r', 'o', 'b'), ('o', 'b', 'l'), ('b', 'l', 'è'), ('l', 'è', 'm'), ('è', 'm', 'e'), ('m', 'e', 's'), ('e', 's', ' '), ('s', ' ', 'c'), (' ', 'c', 'o'), ('c', 'o', 'm'), ('o', 'm', 'p'), ('m', 'p', 'l'), ('p', 'l', 'e'), ('l', 'e', 'x'), ('e', 'x', 'e'), ('x', 'e', 's'), ('e', 's', '.'), ('s', '.', ' '), ('.', ' ', 'L'), (' ', 'L', \"'\"), ('L', \"'\", 'I'), (\"'\", 'I', 'A'), ('I', 'A', ' '), ('A', ' ', 'e'), (' ', 'e', 'n'), ('e', 'n', 'g'), ('n', 'g', 'l'), ('g', 'l', 'o'), ('l', 'o', 'b'), ('o', 'b', 'e'), ('b', 'e', ' '), ('e', ' ', 'u'), (' ', 'u', 'n'), ('u', 'n', ' '), ('n', ' ', 'l'), (' ', 'l', 'a'), ('l', 'a', 'r'), ('a', 'r', 'g'), ('r', 'g', 'e'), ('g', 'e', ' '), ('e', ' ', 'é'), (' ', 'é', 'v'), ('é', 'v', 'e'), ('v', 'e', 'n'), ('e', 'n', 't'), ('n', 't', 'a'), ('t', 'a', 'i'), ('a', 'i', 'l'), ('i', 'l', ' '), ('l', ' ', 'd'), (' ', 'd', 'e'), ('d', 'e', ' '), ('e', ' ', 'd'), (' ', 'd', 'o'), ('d', 'o', 'm'), ('o', 'm', 'a'), ('m', 'a', 'i'), ('a', 'i', 'n'), ('i', 'n', 'e'), ('n', 'e', 's'), ('e', 's', ','), ('s', ',', ' '), (',', ' ', 'd'), (' ', 'd', 'e'), ('d', 'e', ' '), ('e', ' ', 'l'), (' ', 'l', 'a'), ('l', 'a', ' '), ('a', ' ', 'r'), (' ', 'r', 'o'), ('r', 'o', 'b'), ('o', 'b', 'o'), ('b', 'o', 't'), ('o', 't', 'i'), ('t', 'i', 'q'), ('i', 'q', 'u'), ('q', 'u', 'e'), ('u', 'e', ' '), ('e', ' ', 'a'), (' ', 'a', 'u'), ('a', 'u', 'x'), ('u', 'x', ' '), ('x', ' ', 'a'), (' ', 'a', 'l'), ('a', 'l', 'g'), ('l', 'g', 'o'), ('g', 'o', 'r'), ('o', 'r', 'i'), ('r', 'i', 't'), ('i', 't', 'h'), ('t', 'h', 'm'), ('h', 'm', 'e'), ('m', 'e', 's'), ('e', 's', ' '), ('s', ' ', 'd'), (' ', 'd', \"'\"), ('d', \"'\", 'a'), (\"'\", 'a', 'p'), ('a', 'p', 'p'), ('p', 'p', 'r'), ('p', 'r', 'e'), ('r', 'e', 'n'), ('e', 'n', 't'), ('n', 't', 'i'), ('t', 'i', 's'), ('i', 's', 's'), ('s', 's', 'a'), ('s', 'a', 'g'), ('a', 'g', 'e'), ('g', 'e', ' '), ('e', ' ', 'a'), (' ', 'a', 'u'), ('a', 'u', 't'), ('u', 't', 'o'), ('t', 'o', 'm'), ('o', 'm', 'a'), ('m', 'a', 't'), ('a', 't', 'i'), ('t', 'i', 'q'), ('i', 'q', 'u'), ('q', 'u', 'e'), ('u', 'e', '.'), ('e', '.', '\\n'), ('.', '\\n', '\\n'), ('\\n', '\\n', 'L'), ('\\n', 'L', 'e'), ('L', 'e', 's'), ('e', 's', ' '), ('s', ' ', 'c'), (' ', 'c', 'h'), ('c', 'h', 'e'), ('h', 'e', 'r'), ('e', 'r', 'c'), ('r', 'c', 'h'), ('c', 'h', 'e'), ('h', 'e', 'u'), ('e', 'u', 'r'), ('u', 'r', 's'), ('r', 's', ' '), ('s', ' ', 'e'), (' ', 'e', 'n'), ('e', 'n', ' '), ('n', ' ', 'I'), (' ', 'I', 'A'), ('I', 'A', ' '), ('A', ' ', 't'), (' ', 't', 'r'), ('t', 'r', 'a'), ('r', 'a', 'v'), ('a', 'v', 'a'), ('v', 'a', 'i'), ('a', 'i', 'l'), ('i', 'l', 'l'), ('l', 'l', 'e'), ('l', 'e', 'n'), ('e', 'n', 't'), ('n', 't', ' '), ('t', ' ', 's'), (' ', 's', 'u'), ('s', 'u', 'r'), ('u', 'r', ' '), ('r', ' ', 'l'), (' ', 'l', 'e'), ('l', 'e', ' '), ('e', ' ', 'd'), (' ', 'd', 'é'), ('d', 'é', 'v'), ('é', 'v', 'e'), ('v', 'e', 'l'), ('e', 'l', 'o'), ('l', 'o', 'p'), ('o', 'p', 'p'), ('p', 'p', 'e'), ('p', 'e', 'm'), ('e', 'm', 'e'), ('m', 'e', 'n'), ('e', 'n', 't'), ('n', 't', ' '), ('t', ' ', 'd'), (' ', 'd', 'e'), ('d', 'e', ' '), ('e', ' ', 'm'), (' ', 'm', 'o'), ('m', 'o', 'd'), ('o', 'd', 'è'), ('d', 'è', 'l'), ('è', 'l', 'e'), ('l', 'e', 's'), ('e', 's', ' '), ('s', ' ', 'd'), (' ', 'd', \"'\"), ('d', \"'\", 'I'), (\"'\", 'I', 'A'), ('I', 'A', ' '), ('A', ' ', 'c'), (' ', 'c', 'a'), ('c', 'a', 'p'), ('a', 'p', 'a'), ('p', 'a', 'b'), ('a', 'b', 'l'), ('b', 'l', 'e'), ('l', 'e', 's'), ('e', 's', ' '), ('s', ' ', 'd'), (' ', 'd', 'e'), ('d', 'e', ' '), ('e', ' ', 'p'), (' ', 'p', 'r'), ('p', 'r', 'e'), ('r', 'e', 'n'), ('e', 'n', 'd'), ('n', 'd', 'r'), ('d', 'r', 'e'), ('r', 'e', ' '), ('e', ' ', 'd'), (' ', 'd', 'e'), ('d', 'e', 's'), ('e', 's', ' '), ('s', ' ', 'd'), (' ', 'd', 'é'), ('d', 'é', 'c'), ('é', 'c', 'i'), ('c', 'i', 's'), ('i', 's', 'i'), ('s', 'i', 'o'), ('i', 'o', 'n'), ('o', 'n', 's'), ('n', 's', ' '), ('s', ' ', 'é'), (' ', 'é', 'c'), ('é', 'c', 'l'), ('c', 'l', 'a'), ('l', 'a', 'i'), ('a', 'i', 'r'), ('i', 'r', 'é'), ('r', 'é', 'e'), ('é', 'e', 's'), ('e', 's', ','), ('s', ',', ' '), (',', ' ', 'd'), (' ', 'd', 'e'), ('d', 'e', ' '), ('e', ' ', 'r'), (' ', 'r', 'é'), ('r', 'é', 's'), ('é', 's', 'o'), ('s', 'o', 'u'), ('o', 'u', 'd'), ('u', 'd', 'r'), ('d', 'r', 'e'), ('r', 'e', ' '), ('e', ' ', 'd'), (' ', 'd', 'e'), ('d', 'e', 's'), ('e', 's', ' '), ('s', ' ', 'p'), (' ', 'p', 'r'), ('p', 'r', 'o'), ('r', 'o', 'b'), ('o', 'b', 'l'), ('b', 'l', 'è'), ('l', 'è', 'm'), ('è', 'm', 'e'), ('m', 'e', 's'), ('e', 's', ' '), ('s', ' ', 'c'), (' ', 'c', 'o'), ('c', 'o', 'm'), ('o', 'm', 'p'), ('m', 'p', 'l'), ('p', 'l', 'e'), ('l', 'e', 'x'), ('e', 'x', 'e'), ('x', 'e', 's'), ('e', 's', ' '), ('s', ' ', 'e'), (' ', 'e', 't'), ('e', 't', ' '), ('t', ' ', 'd'), (' ', 'd', \"'\"), ('d', \"'\", 'i'), (\"'\", 'i', 'n'), ('i', 'n', 't'), ('n', 't', 'e'), ('t', 'e', 'r'), ('e', 'r', 'a'), ('r', 'a', 'g'), ('a', 'g', 'i'), ('g', 'i', 'r'), ('i', 'r', ' '), ('r', ' ', 'd'), (' ', 'd', 'e'), ('d', 'e', ' '), ('e', ' ', 'm'), (' ', 'm', 'a'), ('m', 'a', 'n'), ('a', 'n', 'i'), ('n', 'i', 'è'), ('i', 'è', 'r'), ('è', 'r', 'e'), ('r', 'e', ' '), ('e', ' ', 'p'), (' ', 'p', 'l'), ('p', 'l', 'u'), ('l', 'u', 's'), ('u', 's', ' '), ('s', ' ', 'n'), (' ', 'n', 'a'), ('n', 'a', 't'), ('a', 't', 'u'), ('t', 'u', 'r'), ('u', 'r', 'e'), ('r', 'e', 'l'), ('e', 'l', 'l'), ('l', 'l', 'e'), ('l', 'e', ' '), ('e', ' ', 'a'), (' ', 'a', 'v'), ('a', 'v', 'e'), ('v', 'e', 'c'), ('e', 'c', ' '), ('c', ' ', 'l'), (' ', 'l', 'e'), ('l', 'e', 's'), ('e', 's', ' '), ('s', ' ', 'h'), (' ', 'h', 'u'), ('h', 'u', 'm'), ('u', 'm', 'a'), ('m', 'a', 'i'), ('a', 'i', 'n'), ('i', 'n', 's'), ('n', 's', '.'), ('s', '.', ' '), ('.', ' ', 'I'), (' ', 'I', 'l'), ('I', 'l', 's'), ('l', 's', ' '), ('s', ' ', 'u'), (' ', 'u', 't'), ('u', 't', 'i'), ('t', 'i', 'l'), ('i', 'l', 'i'), ('l', 'i', 's'), ('i', 's', 'e'), ('s', 'e', 'n'), ('e', 'n', 't'), ('n', 't', ' '), ('t', ' ', 'd'), (' ', 'd', 'e'), ('d', 'e', 's'), ('e', 's', ' '), ('s', ' ', 't'), (' ', 't', 'e'), ('t', 'e', 'c'), ('e', 'c', 'h'), ('c', 'h', 'n'), ('h', 'n', 'i'), ('n', 'i', 'q'), ('i', 'q', 'u'), ('q', 'u', 'e'), ('u', 'e', 's'), ('e', 's', ' '), ('s', ' ', 'd'), (' ', 'd', \"'\"), ('d', \"'\", 'a'), (\"'\", 'a', 'p'), ('a', 'p', 'p'), ('p', 'p', 'r'), ('p', 'r', 'e'), ('r', 'e', 'n'), ('e', 'n', 't'), ('n', 't', 'i'), ('t', 'i', 's'), ('i', 's', 's'), ('s', 's', 'a'), ('s', 'a', 'g'), ('a', 'g', 'e'), ('g', 'e', ' '), ('e', ' ', 'a'), (' ', 'a', 'u'), ('a', 'u', 't'), ('u', 't', 'o'), ('t', 'o', 'm'), ('o', 'm', 'a'), ('m', 'a', 't'), ('a', 't', 'i'), ('t', 'i', 'q'), ('i', 'q', 'u'), ('q', 'u', 'e'), ('u', 'e', ','), ('e', ',', ' '), (',', ' ', 'd'), (' ', 'd', 'e'), ('d', 'e', ' '), ('e', ' ', 't'), (' ', 't', 'r'), ('t', 'r', 'a'), ('r', 'a', 'i'), ('a', 'i', 't'), ('i', 't', 'e'), ('t', 'e', 'm'), ('e', 'm', 'e'), ('m', 'e', 'n'), ('e', 'n', 't'), ('n', 't', ' '), ('t', ' ', 'd'), (' ', 'd', 'u'), ('d', 'u', ' '), ('u', ' ', 'l'), (' ', 'l', 'a'), ('l', 'a', 'n'), ('a', 'n', 'g'), ('n', 'g', 'a'), ('g', 'a', 'g'), ('a', 'g', 'e'), ('g', 'e', ' '), ('e', ' ', 'n'), (' ', 'n', 'a'), ('n', 'a', 't'), ('a', 't', 'u'), ('t', 'u', 'r'), ('u', 'r', 'e'), ('r', 'e', 'l'), ('e', 'l', ','), ('l', ',', ' '), (',', ' ', 'd'), (' ', 'd', 'e'), ('d', 'e', ' '), ('e', ' ', 'v'), (' ', 'v', 'i'), ('v', 'i', 's'), ('i', 's', 'i'), ('s', 'i', 'o'), ('i', 'o', 'n'), ('o', 'n', ' '), ('n', ' ', 'p'), (' ', 'p', 'a'), ('p', 'a', 'r'), ('a', 'r', ' '), ('r', ' ', 'o'), (' ', 'o', 'r'), ('o', 'r', 'd'), ('r', 'd', 'i'), ('d', 'i', 'n'), ('i', 'n', 'a'), ('n', 'a', 't'), ('a', 't', 'e'), ('t', 'e', 'u'), ('e', 'u', 'r'), ('u', 'r', ' '), ('r', ' ', 'e'), (' ', 'e', 't'), ('e', 't', ' '), ('t', ' ', 'd'), (' ', 'd', \"'\"), ('d', \"'\", 'a'), (\"'\", 'a', 'p'), ('a', 'p', 'p'), ('p', 'p', 'r'), ('p', 'r', 'e'), ('r', 'e', 'n'), ('e', 'n', 't'), ('n', 't', 'i'), ('t', 'i', 's'), ('i', 's', 's'), ('s', 's', 'a'), ('s', 'a', 'g'), ('a', 'g', 'e'), ('g', 'e', ' '), ('e', ' ', 'p'), (' ', 'p', 'r'), ('p', 'r', 'o'), ('r', 'o', 'f'), ('o', 'f', 'o'), ('f', 'o', 'n'), ('o', 'n', 'd'), ('n', 'd', ' '), ('d', ' ', 'p'), (' ', 'p', 'o'), ('p', 'o', 'u'), ('o', 'u', 'r'), ('u', 'r', ' '), ('r', ' ', 'c'), (' ', 'c', 'r'), ('c', 'r', 'é'), ('r', 'é', 'e'), ('é', 'e', 'r'), ('e', 'r', ' '), ('r', ' ', 'c'), (' ', 'c', 'e'), ('c', 'e', 's'), ('e', 's', ' '), ('s', ' ', 's'), (' ', 's', 'y'), ('s', 'y', 's'), ('y', 's', 't'), ('s', 't', 'è'), ('t', 'è', 'm'), ('è', 'm', 'e'), ('m', 'e', 's'), ('e', 's', ' '), ('s', ' ', 'i'), (' ', 'i', 'n'), ('i', 'n', 't'), ('n', 't', 'e'), ('t', 'e', 'l'), ('e', 'l', 'l'), ('l', 'l', 'i'), ('l', 'i', 'g'), ('i', 'g', 'e'), ('g', 'e', 'n'), ('e', 'n', 't'), ('n', 't', 's'), ('t', 's', '.')]\n",
      "Word Frequency Distribution: {\"L'intelligence\": 1, 'artificielle': 1, '(': 1, 'IA': 2, ')': 1, 'est': 1, 'un': 2, 'domaine': 1, 'passionnant': 1, 'de': 10, \"l'informatique\": 1, 'qui': 2, 'vise': 1, 'à': 1, 'créer': 2, 'des': 5, 'systèmes': 3, 'capables': 2, \"d'effectuer\": 1, 'tâches': 1, 'nécessitent': 1, 'généralement': 1, \"l'intelligence\": 1, 'humaine': 1, '.': 5, 'Ces': 1, 'sont': 1, 'conçus': 1, 'pour': 2, 'imiter': 1, 'certaines': 1, 'capacités': 1, 'humaines': 1, ',': 7, 'telles': 1, 'que': 1, 'la': 4, 'vision': 2, 'compréhension': 1, 'du': 2, 'langage': 2, 'naturel': 2, \"l'apprentissage\": 1, 'et': 3, 'résolution': 1, 'problèmes': 2, 'complexes': 2, \"L'IA\": 1, 'englobe': 1, 'large': 1, 'éventail': 1, 'domaines': 1, 'robotique': 1, 'aux': 1, 'algorithmes': 1, \"d'apprentissage\": 3, 'automatique': 2, 'Les': 1, 'chercheurs': 1, 'en': 1, 'travaillent': 1, 'sur': 1, 'le': 1, 'développement': 1, 'modèles': 1, \"d'IA\": 1, 'prendre': 1, 'décisions': 1, 'éclairées': 1, 'résoudre': 1, \"d'interagir\": 1, 'manière': 1, 'plus': 1, 'naturelle': 1, 'avec': 1, 'les': 1, 'humains': 1, 'Ils': 1, 'utilisent': 1, 'techniques': 1, 'traitement': 1, 'par': 1, 'ordinateur': 1, 'profond': 1, 'ces': 1, 'intelligents': 1}\n",
      "\n",
      "\n"
     ]
    }
   ],
   "source": [
    "# Définissez la valeur de n pour les n-grams\n",
    "n = 3\n",
    "\n",
    "# Créez une liste pour stocker les n-grams de chaque document\n",
    "document_ngrams_list = []\n",
    "\n",
    "# Parcourez chaque document dans votre corpus_list\n",
    "for document_object in corpus_list:\n",
    "    # Parcourez chaque document dans votre corpus_list\n",
    "    document_content = document_object[\"content\"]\n",
    "\n",
    "    # Tokenize le contenu du document\n",
    "    document_words = word_tokenize(document_content)\n",
    "\n",
    "    # Génère des n-grams pour les mots\n",
    "    word_ngrams = list(ngrams(document_words, n))\n",
    "\n",
    "    # Génère des n-grams pour les caractères\n",
    "    char_ngrams = list(ngrams(document_content, n))\n",
    "\n",
    "    # Calcule les fréquences des mots à l'aide de FreqDist\n",
    "    word_freq_dist = FreqDist(document_words)\n",
    "\n",
    "    # Crée un dictionnaire pour stocker les informations sur le document\n",
    "    document_info = {\n",
    "        \"content\": document_content,\n",
    "        \"word_ngrams\": word_ngrams,\n",
    "        \"char_ngrams\": char_ngrams,\n",
    "        \"word_freq_dist\": dict(word_freq_dist)\n",
    "    }\n",
    "\n",
    "    # Ajoute document_info à la liste\n",
    "    document_ngrams_list.append(document_info)\n",
    "\n",
    "# À présent, document_ngrams_list contient les n-grams et les distributions de fréquence des mots pour chaque document\n",
    "# Vous pouvez accéder aux informations pour un document spécifique en utilisant son index dans la liste\n",
    "for idx, document_info in enumerate(document_ngrams_list):\n",
    "    print(f\"Document {idx + 1} Information:\")\n",
    "    print(\"Content:\", document_info[\"content\"])\n",
    "    print(\"Word n-grams:\", document_info[\"word_ngrams\"])\n",
    "    print(\"Character n-grams:\", document_info[\"char_ngrams\"])\n",
    "    print(\"Word Frequency Distribution:\", document_info[\"word_freq_dist\"])\n",
    "    print(\"\\n\")"
   ]
  }
 ],
 "metadata": {
  "kernelspec": {
   "display_name": "Python 3",
   "language": "python",
   "name": "python3"
  },
  "language_info": {
   "codemirror_mode": {
    "name": "ipython",
    "version": 3
   },
   "file_extension": ".py",
   "mimetype": "text/x-python",
   "name": "python",
   "nbconvert_exporter": "python",
   "pygments_lexer": "ipython3",
   "version": "3.9.13"
  }
 },
 "nbformat": 4,
 "nbformat_minor": 2
}
